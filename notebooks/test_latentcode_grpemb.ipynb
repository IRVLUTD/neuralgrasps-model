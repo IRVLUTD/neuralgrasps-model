{
 "cells": [
  {
   "cell_type": "code",
   "execution_count": 2,
   "id": "b17a6fe9",
   "metadata": {},
   "outputs": [],
   "source": [
    "import argparse\n",
    "import json\n",
    "import logging\n",
    "import os\n",
    "import random\n",
    "import time\n",
    "\n",
    "import torch\n",
    "import numpy as np"
   ]
  },
  {
   "cell_type": "code",
   "execution_count": 3,
   "id": "b76d53b9",
   "metadata": {},
   "outputs": [],
   "source": [
    "import sys \n",
    "sys.path.append('..')\n",
    "import utils.misc as ws\n",
    "import utils.data_utils\n",
    "import utils.train_utils\n",
    "import utils.eval_utils\n",
    "import utils.mesh\n",
    "import utils.dataset as d\n",
    "import models.networks as arch\n"
   ]
  },
  {
   "cell_type": "code",
   "execution_count": 4,
   "id": "931d7d6a",
   "metadata": {},
   "outputs": [],
   "source": [
    "DATA_SOURCE = '/home/ninad/Desktop/Docs/phd-res/proj-irvl-grasp-transfer/code/docker-data/output_dataset/'\n",
    "# DATA_SOURCE = '/home/ninad/Desktop/multi-finger-grasping/output_dataset/'\n",
    "EXPERIMENTS_DIR = '../experiments/all3_gemb_varcmap_n200_run3_increased_batch_size_80/'\n",
    "CHECKPOINT = 'latest'\n",
    "split_filename = os.path.join(EXPERIMENTS_DIR, 'split_train.json')\n",
    "specs_filename = os.path.join(EXPERIMENTS_DIR, \"specs.json\")\n",
    "\n",
    "LATENT_CODE_DIR = ws.latent_codes_subdir"
   ]
  },
  {
   "cell_type": "code",
   "execution_count": 5,
   "id": "c3bb0255",
   "metadata": {},
   "outputs": [],
   "source": [
    "specs = json.load(open(specs_filename))\n",
    "latent_size = specs[\"CodeLength\"]\n",
    "gripper_weight = specs[\"GripperWeight\"]\n",
    "num_grippers = specs[\"NumGrippers\"]\n",
    "grp_embedding_size = specs.get(\"GripperEmbeddingLength\", 30)"
   ]
  },
  {
   "cell_type": "code",
   "execution_count": 6,
   "id": "f0d632bf",
   "metadata": {},
   "outputs": [],
   "source": [
    "decoder = arch.dsdfDecoder(\n",
    "    grp_embedding_size + latent_size, \n",
    "    **specs[\"NetworkSpecs\"]\n",
    "    ).cuda()\n",
    "\n",
    "decoder = torch.nn.DataParallel(decoder)\n",
    "\n",
    "saved_model_state = torch.load(\n",
    "    os.path.join(\n",
    "        EXPERIMENTS_DIR, ws.model_params_subdir, CHECKPOINT + \".pth\")\n",
    ")\n",
    "\n",
    "saved_model_epoch = saved_model_state[\"epoch\"]\n",
    "\n",
    "decoder.load_state_dict(saved_model_state[\"model_state_dict\"])\n",
    "\n",
    "decoder = decoder.module.cuda()"
   ]
  },
  {
   "cell_type": "code",
   "execution_count": 7,
   "id": "e5d26596",
   "metadata": {},
   "outputs": [],
   "source": [
    "with open(split_filename, \"r\") as f:\n",
    "    split = json.load(f)\n",
    "\n",
    "# npz_filenames = utils.data_utils.dsdf_get_instance_filenames(\n",
    "#     args.data_source, split)\n",
    "cmap_f, grp_names, gpc_f, npz_filenames = utils.data_utils.get_instance_filelist(DATA_SOURCE, split)\n",
    "\n",
    "# random.shuffle(npz_filenames) # WHY??? DISABLE THIS FOR CHECKING REPRODUCIBILITY"
   ]
  },
  {
   "cell_type": "code",
   "execution_count": 8,
   "id": "3c1c7fc8",
   "metadata": {},
   "outputs": [
    {
     "name": "stdout",
     "output_type": "stream",
     "text": [
      "df/fetch_gripper/sdf_graspnum_1.npz\n",
      "df/fetch_gripper/sdf_graspnum_2.npz\n",
      "df/fetch_gripper/sdf_graspnum_3.npz\n",
      "df/fetch_gripper/sdf_graspnum_4.npz\n",
      "df/fetch_gripper/sdf_graspnum_5.npz\n",
      "df/fetch_gripper/sdf_graspnum_6.npz\n",
      "df/fetch_gripper/sdf_graspnum_7.npz\n",
      "df/fetch_gripper/sdf_graspnum_8.npz\n",
      "df/fetch_gripper/sdf_graspnum_9.npz\n"
     ]
    }
   ],
   "source": [
    "for f in npz_filenames[1:10]:\n",
    "    print(f[-35:])"
   ]
  },
  {
   "cell_type": "code",
   "execution_count": 9,
   "id": "696dfe71",
   "metadata": {},
   "outputs": [
    {
     "name": "stdout",
     "output_type": "stream",
     "text": [
      "torch.Size([600, 128])\n",
      "torch.Size([3, 128])\n"
     ]
    }
   ],
   "source": [
    "latent_vecs = ws.load_latent_vectors(EXPERIMENTS_DIR, CHECKPOINT)\n",
    "gripper_vecs = ws.load_gripper_vectors(EXPERIMENTS_DIR, CHECKPOINT)\n",
    "print(latent_vecs.shape)\n",
    "print(gripper_vecs.shape)"
   ]
  },
  {
   "cell_type": "code",
   "execution_count": 10,
   "id": "3de4e981",
   "metadata": {},
   "outputs": [
    {
     "name": "stdout",
     "output_type": "stream",
     "text": [
      "552 /sdf/HumanHand/sdf_graspnum_152.npz\n"
     ]
    }
   ],
   "source": [
    "index_to_select = random.randint(0, len(npz_filenames)-1)\n",
    "\n",
    "npz = npz_filenames[index_to_select]\n",
    "\n",
    "full_filename = npz\n",
    "\n",
    "print(index_to_select, npz[-35:])\n"
   ]
  },
  {
   "cell_type": "code",
   "execution_count": 11,
   "id": "8f876c80",
   "metadata": {},
   "outputs": [],
   "source": [
    "gripper_idx = 2 # have to manually set it for now depending on which training example is used"
   ]
  },
  {
   "cell_type": "code",
   "execution_count": 27,
   "id": "b79088c7",
   "metadata": {},
   "outputs": [
    {
     "name": "stdout",
     "output_type": "stream",
     "text": [
      "torch.Size([128, 1])\n",
      "torch.Size([128, 1])\n"
     ]
    }
   ],
   "source": [
    "latent_vec = latent_vecs[index_to_select].unsqueeze(1)\n",
    "grp_vec = gripper_vecs[1].unsqueeze(1)\n",
    "# grp_vec = torch.zeros(gripper_vecs.shape[1]).unsqueeze(1)\n",
    "print(latent_vec.shape)\n",
    "print(grp_vec.shape)"
   ]
  },
  {
   "cell_type": "code",
   "execution_count": 28,
   "id": "57874051",
   "metadata": {},
   "outputs": [
    {
     "name": "stdout",
     "output_type": "stream",
     "text": [
      "torch.Size([256, 1])\n",
      "tensor([[-4.7812e-03],\n",
      "        [-7.4934e-03],\n",
      "        [-8.7376e-03],\n",
      "        [ 4.8235e-03],\n",
      "        [ 3.1281e-03],\n",
      "        [ 6.2946e-03],\n",
      "        [ 5.5158e-03],\n",
      "        [-3.4408e-03],\n",
      "        [-3.0477e-03],\n",
      "        [ 6.7227e-04],\n",
      "        [ 1.2577e-03],\n",
      "        [-2.8417e-03],\n",
      "        [-1.1284e-02],\n",
      "        [ 1.1426e-02],\n",
      "        [ 8.3430e-04],\n",
      "        [-3.7023e-03],\n",
      "        [-2.8891e-03],\n",
      "        [ 1.8984e-03],\n",
      "        [ 3.2764e-04],\n",
      "        [-1.1653e-02],\n",
      "        [-1.3059e-03],\n",
      "        [-2.8993e-03],\n",
      "        [ 1.0907e-02],\n",
      "        [-2.5181e-03],\n",
      "        [-3.8340e-03],\n",
      "        [-7.0393e-03],\n",
      "        [-3.1428e-03],\n",
      "        [ 2.8517e-03],\n",
      "        [-7.1835e-03],\n",
      "        [ 1.2882e-02],\n",
      "        [-9.2974e-04],\n",
      "        [ 7.0270e-04],\n",
      "        [-3.9417e-05],\n",
      "        [ 6.1310e-05],\n",
      "        [ 5.0056e-04],\n",
      "        [ 2.5775e-03],\n",
      "        [-7.3510e-04],\n",
      "        [-1.4163e-02],\n",
      "        [-8.3281e-05],\n",
      "        [-2.8253e-03],\n",
      "        [-2.8387e-03],\n",
      "        [ 5.7160e-04],\n",
      "        [ 1.3370e-03],\n",
      "        [-5.1725e-03],\n",
      "        [-5.4886e-03],\n",
      "        [ 1.6451e-03],\n",
      "        [ 1.2545e-02],\n",
      "        [ 1.9675e-03],\n",
      "        [-1.8284e-03],\n",
      "        [-1.1866e-02],\n",
      "        [ 5.5040e-03],\n",
      "        [-3.5307e-03],\n",
      "        [-1.3029e-02],\n",
      "        [-8.5361e-05],\n",
      "        [ 1.7319e-03],\n",
      "        [-2.9577e-04],\n",
      "        [-6.9785e-03],\n",
      "        [-3.7916e-04],\n",
      "        [-8.4214e-03],\n",
      "        [-2.7703e-04],\n",
      "        [-1.7641e-02],\n",
      "        [ 3.2576e-03],\n",
      "        [ 4.3889e-03],\n",
      "        [-1.6063e-02],\n",
      "        [-7.9613e-03],\n",
      "        [ 6.2098e-03],\n",
      "        [ 2.2649e-03],\n",
      "        [-1.6396e-03],\n",
      "        [ 6.7892e-03],\n",
      "        [ 1.5585e-03],\n",
      "        [-3.6742e-04],\n",
      "        [-8.2193e-03],\n",
      "        [ 2.7285e-03],\n",
      "        [-4.4596e-03],\n",
      "        [-1.1409e-02],\n",
      "        [-2.8466e-03],\n",
      "        [-1.3400e-03],\n",
      "        [ 5.5618e-03],\n",
      "        [-6.3074e-03],\n",
      "        [-8.9773e-04],\n",
      "        [-1.3578e-03],\n",
      "        [-1.0143e-02],\n",
      "        [ 1.7501e-03],\n",
      "        [ 5.1465e-03],\n",
      "        [-2.9344e-03],\n",
      "        [-1.4235e-02],\n",
      "        [ 5.0855e-03],\n",
      "        [-2.1859e-03],\n",
      "        [-9.2794e-03],\n",
      "        [ 2.8255e-03],\n",
      "        [ 1.6438e-03],\n",
      "        [-5.8535e-03],\n",
      "        [ 3.5522e-03],\n",
      "        [ 8.5767e-03],\n",
      "        [ 1.5084e-03],\n",
      "        [ 4.0272e-03],\n",
      "        [-3.0738e-03],\n",
      "        [ 5.8860e-04],\n",
      "        [-1.4268e-02],\n",
      "        [-2.4943e-03],\n",
      "        [ 3.6545e-03],\n",
      "        [ 1.9229e-03],\n",
      "        [ 6.9845e-03],\n",
      "        [ 5.3085e-04],\n",
      "        [ 9.1124e-03],\n",
      "        [-8.5711e-03],\n",
      "        [ 1.1515e-03],\n",
      "        [-8.2621e-03],\n",
      "        [-1.2475e-03],\n",
      "        [-8.3214e-04],\n",
      "        [-7.1073e-03],\n",
      "        [ 5.4682e-03],\n",
      "        [-1.6056e-03],\n",
      "        [ 8.5129e-03],\n",
      "        [ 4.8187e-03],\n",
      "        [ 6.6259e-05],\n",
      "        [ 2.4150e-03],\n",
      "        [ 1.9326e-03],\n",
      "        [ 3.7928e-03],\n",
      "        [ 6.9610e-03],\n",
      "        [-9.8000e-04],\n",
      "        [-1.7226e-03],\n",
      "        [ 2.1279e-03],\n",
      "        [ 1.1557e-02],\n",
      "        [-8.0086e-03],\n",
      "        [ 2.6387e-03],\n",
      "        [ 5.0591e-03],\n",
      "        [-1.1632e-02],\n",
      "        [ 3.5531e-02],\n",
      "        [-8.5667e-04],\n",
      "        [ 4.2283e-02],\n",
      "        [-6.3855e-02],\n",
      "        [-4.8586e-02],\n",
      "        [-7.7791e-03],\n",
      "        [ 1.0431e-02],\n",
      "        [-3.0699e-02],\n",
      "        [ 8.0074e-02],\n",
      "        [ 4.9209e-02],\n",
      "        [-1.8030e-02],\n",
      "        [ 1.9612e-01],\n",
      "        [-3.0863e-02],\n",
      "        [-6.5491e-02],\n",
      "        [ 8.9154e-03],\n",
      "        [ 3.1648e-02],\n",
      "        [ 3.2786e-02],\n",
      "        [-1.7919e-02],\n",
      "        [-1.1053e-01],\n",
      "        [-1.4725e-02],\n",
      "        [ 2.1904e-02],\n",
      "        [-1.1107e-01],\n",
      "        [-4.5940e-02],\n",
      "        [ 1.0904e-01],\n",
      "        [-5.1755e-02],\n",
      "        [ 3.3384e-03],\n",
      "        [-3.7743e-02],\n",
      "        [ 3.6551e-02],\n",
      "        [ 7.6460e-02],\n",
      "        [ 2.8330e-02],\n",
      "        [-1.7509e-02],\n",
      "        [ 2.1174e-02],\n",
      "        [-3.8195e-02],\n",
      "        [-3.5151e-04],\n",
      "        [ 4.4678e-02],\n",
      "        [ 5.2498e-02],\n",
      "        [-6.6852e-02],\n",
      "        [ 7.1574e-02],\n",
      "        [-5.9401e-02],\n",
      "        [ 8.5829e-02],\n",
      "        [-3.1678e-02],\n",
      "        [ 7.9881e-02],\n",
      "        [-1.3838e-02],\n",
      "        [-1.5678e-01],\n",
      "        [ 2.6350e-02],\n",
      "        [ 7.7779e-02],\n",
      "        [-7.7813e-03],\n",
      "        [ 4.5989e-02],\n",
      "        [-4.5676e-02],\n",
      "        [-3.3862e-02],\n",
      "        [-4.1144e-02],\n",
      "        [-2.2832e-02],\n",
      "        [ 3.8225e-02],\n",
      "        [ 6.8292e-03],\n",
      "        [-1.0066e-02],\n",
      "        [-2.4940e-02],\n",
      "        [ 3.6826e-02],\n",
      "        [ 7.7099e-02],\n",
      "        [ 6.3565e-02],\n",
      "        [ 6.0678e-02],\n",
      "        [ 2.1702e-02],\n",
      "        [ 5.0613e-03],\n",
      "        [-1.6246e-02],\n",
      "        [-2.4256e-02],\n",
      "        [ 1.5212e-02],\n",
      "        [-1.1056e-01],\n",
      "        [-3.7068e-02],\n",
      "        [ 1.1419e-01],\n",
      "        [ 4.4802e-02],\n",
      "        [ 1.1065e-01],\n",
      "        [ 4.8307e-02],\n",
      "        [-5.8730e-02],\n",
      "        [ 2.1715e-03],\n",
      "        [ 1.4626e-02],\n",
      "        [ 2.4720e-02],\n",
      "        [-7.2192e-02],\n",
      "        [-6.6585e-02],\n",
      "        [-4.5824e-02],\n",
      "        [ 4.3031e-02],\n",
      "        [ 4.0266e-03],\n",
      "        [ 1.5227e-01],\n",
      "        [-8.5216e-02],\n",
      "        [-1.4964e-02],\n",
      "        [ 7.3905e-02],\n",
      "        [ 1.0100e-01],\n",
      "        [ 4.0275e-02],\n",
      "        [ 4.5244e-02],\n",
      "        [-5.0605e-03],\n",
      "        [ 3.9833e-02],\n",
      "        [-1.2408e-01],\n",
      "        [-1.9593e-02],\n",
      "        [ 3.5216e-02],\n",
      "        [ 6.3084e-02],\n",
      "        [ 1.4832e-01],\n",
      "        [ 1.0139e-02],\n",
      "        [ 4.0522e-02],\n",
      "        [ 6.4487e-02],\n",
      "        [ 2.9955e-02],\n",
      "        [ 5.3932e-02],\n",
      "        [ 1.4044e-02],\n",
      "        [-3.0266e-02],\n",
      "        [ 9.8673e-02],\n",
      "        [ 1.0630e-02],\n",
      "        [ 4.2653e-02],\n",
      "        [ 1.1445e-01],\n",
      "        [-8.7552e-03],\n",
      "        [-7.7330e-02],\n",
      "        [ 1.4974e-02],\n",
      "        [ 6.8922e-02],\n",
      "        [ 3.9339e-02],\n",
      "        [ 4.0385e-02],\n",
      "        [-1.1019e-01],\n",
      "        [ 1.3558e-02],\n",
      "        [-1.6120e-01],\n",
      "        [-8.7543e-03],\n",
      "        [-3.6986e-02],\n",
      "        [-8.9946e-02],\n",
      "        [-4.1295e-02],\n",
      "        [ 7.5707e-02],\n",
      "        [-1.0795e-03],\n",
      "        [ 4.1803e-02],\n",
      "        [-9.7812e-02],\n",
      "        [-4.9340e-02],\n",
      "        [-5.3108e-02],\n",
      "        [ 7.2925e-03],\n",
      "        [ 3.3062e-02],\n",
      "        [ 4.8533e-02],\n",
      "        [ 1.0315e-02]])\n"
     ]
    }
   ],
   "source": [
    "combined_latent_code = torch.cat([grp_vec, latent_vec], 0)\n",
    "print(combined_latent_code.shape)\n",
    "print(combined_latent_code)"
   ]
  },
  {
   "cell_type": "code",
   "execution_count": null,
   "id": "8e5e41d8",
   "metadata": {},
   "outputs": [],
   "source": []
  },
  {
   "cell_type": "code",
   "execution_count": 29,
   "id": "c615e8e0",
   "metadata": {},
   "outputs": [
    {
     "name": "stdout",
     "output_type": "stream",
     "text": [
      "torch.Size([256])\n"
     ]
    }
   ],
   "source": [
    "combined_latent_code = combined_latent_code.squeeze()\n",
    "print(combined_latent_code.shape)"
   ]
  },
  {
   "cell_type": "code",
   "execution_count": null,
   "id": "a1e14b7a",
   "metadata": {},
   "outputs": [],
   "source": [
    "# latent_vec = latent_vec.squeeze()\n",
    "# grp_vec = grp_vec.squeeze()\n",
    "# print(latent_vec.shape)\n",
    "# print(grp_vec.shape)"
   ]
  },
  {
   "cell_type": "code",
   "execution_count": null,
   "id": "b1de4a65",
   "metadata": {},
   "outputs": [],
   "source": []
  },
  {
   "cell_type": "code",
   "execution_count": null,
   "id": "53984650",
   "metadata": {},
   "outputs": [],
   "source": []
  },
  {
   "cell_type": "code",
   "execution_count": null,
   "id": "2aa46221",
   "metadata": {},
   "outputs": [],
   "source": [
    "####### MESH RECONSTRUCTION CODE!\n",
    "\n",
    "is_gripper = True\n",
    "\n",
    "if is_gripper:\n",
    "    mesh_filename = os.path.join(EXPERIMENTS_DIR, f'test_{npz[-15:]}')\n",
    "else:\n",
    "    mesh_filename = os.path.join(EXPERIMENTS_DIR, f'test_obj_{npz[-15:]}')\n",
    "\n",
    "\n",
    "latent_vec = latent_vec.squeeze().cuda()\n",
    "with torch.no_grad():\n",
    "    utils.mesh.create_mesh_custom(\n",
    "        decoder, combined_latent_code, mesh_filename, N=256, max_batch=int(2 ** 18), isGripper=is_gripper)\n"
   ]
  },
  {
   "cell_type": "code",
   "execution_count": null,
   "id": "0da73c68",
   "metadata": {},
   "outputs": [],
   "source": []
  },
  {
   "cell_type": "code",
   "execution_count": 30,
   "id": "7014bec7",
   "metadata": {},
   "outputs": [
    {
     "name": "stdout",
     "output_type": "stream",
     "text": [
      "gripper idxs: {'Barrett': 0, 'HumanHand': 1, 'fetch_gripper': 2}\n"
     ]
    }
   ],
   "source": [
    "# IMPORTANT: HAVE SHUFFLE = FALSE SO THAT SAME DATA POINT IS LOADED AS index_to_select\n",
    "\n",
    "# sdf_dataset = d.SDFSamples(DATA_SOURCE, split, 1000000)\n",
    "\n",
    "sdf_dataset = d.MultiGripperSamples(DATA_SOURCE, split, 100000)\n",
    "\n",
    "sdf_loader = torch.utils.data.DataLoader(\n",
    "    sdf_dataset,\n",
    "    batch_size=1,\n",
    "    shuffle=False,\n",
    "    num_workers=8,\n",
    "    drop_last=True )"
   ]
  },
  {
   "cell_type": "code",
   "execution_count": 31,
   "id": "9ae61d2c",
   "metadata": {},
   "outputs": [
    {
     "name": "stdout",
     "output_type": "stream",
     "text": [
      "_1000/sdf/HumanHand/sdf_graspnum_152.npz\n",
      "1\n",
      "(100000,)\n"
     ]
    }
   ],
   "source": [
    "# samples, npzfile = next(iter(sdf_loader))\n",
    "g_idxs, _, samples, idx, npzfile = sdf_dataset[index_to_select]\n",
    "print(npzfile[-40:])\n",
    "print(g_idxs)\n",
    "\n",
    "queries = samples[:, :3] # Need to pass this through the network\n",
    "gt_sdf_obj = samples[:, 3].squeeze().numpy()\n",
    "gt_sdf_grp = samples[:, 4].squeeze().numpy()\n",
    "print(gt_sdf_grp.shape)"
   ]
  },
  {
   "cell_type": "code",
   "execution_count": 32,
   "id": "81bafb19",
   "metadata": {},
   "outputs": [
    {
     "name": "stdout",
     "output_type": "stream",
     "text": [
      "torch.Size([100000, 5])\n"
     ]
    }
   ],
   "source": [
    "print(samples.shape)"
   ]
  },
  {
   "cell_type": "code",
   "execution_count": 34,
   "id": "1fe39f5b",
   "metadata": {},
   "outputs": [],
   "source": [
    "with torch.no_grad():\n",
    "    queries, sdf_obj, sdf_grp = utils.eval_utils.eval_query_pc(decoder, combined_latent_code.cuda(), queries)\n",
    "\n",
    "# Try with random queries instead:\n",
    "# with torch.no_grad():\n",
    "#     queries, sdf_obj, sdf_grp = utils.eval_utils.eval_random_query_pc(decoder, combined_latent_code.cuda())\n"
   ]
  },
  {
   "cell_type": "code",
   "execution_count": 35,
   "id": "c8bbc6ba",
   "metadata": {},
   "outputs": [],
   "source": [
    "delta = 0.05\n",
    "sdf_grp = torch.clamp(sdf_grp, -delta, delta)\n",
    "sdf_obj = torch.clamp(sdf_obj, -delta, delta)"
   ]
  },
  {
   "cell_type": "code",
   "execution_count": 36,
   "id": "62d47cca",
   "metadata": {},
   "outputs": [],
   "source": [
    "queries = queries.detach().cpu().numpy()\n",
    "sdf_obj = sdf_obj.detach().cpu().numpy()\n",
    "sdf_grp = sdf_grp.detach().cpu().numpy()"
   ]
  },
  {
   "cell_type": "code",
   "execution_count": 37,
   "id": "c15e535e",
   "metadata": {},
   "outputs": [
    {
     "name": "stdout",
     "output_type": "stream",
     "text": [
      "(100000,)\n",
      "(100000,)\n",
      "(100000, 3)\n"
     ]
    }
   ],
   "source": [
    "print(sdf_grp.shape)\n",
    "print(sdf_obj.shape)\n",
    "print(queries.shape)"
   ]
  },
  {
   "cell_type": "code",
   "execution_count": 38,
   "id": "99742906",
   "metadata": {},
   "outputs": [],
   "source": [
    "import matplotlib.pyplot as plt\n",
    "from mpl_toolkits.mplot3d import Axes3D\n",
    "%matplotlib inline\n",
    "\n",
    "def plot_sdf(xyz, sdf, title='Sample_Title', n_display=10000):\n",
    "    fig = plt.figure(figsize = (10,10))\n",
    "    ax = fig.add_subplot(111, projection='3d')    \n",
    "\n",
    "    ind = np.random.choice(range(xyz.shape[0]), n_display)\n",
    "    data = xyz[ind].T\n",
    "\n",
    "    ax.scatter(data[0], data[2], data[1], s=5, c=sdf[ind])\n",
    "    ax.view_init(20, 100)\n",
    "    limit = (-0.95, 0.95)\n",
    "    ax.set_xlim3d(*limit)\n",
    "    ax.set_ylim3d(*limit)\n",
    "    ax.set_zlim3d(*limit)\n",
    "    plt.title(title)\n",
    "    plt.show()"
   ]
  },
  {
   "cell_type": "code",
   "execution_count": 39,
   "id": "1cb9f7bd",
   "metadata": {},
   "outputs": [
    {
     "data": {
      "image/png": "[encoded data removed]",
      "text/plain": [
       "<Figure size 720x720 with 1 Axes>"
      ]
     },
     "metadata": {
      "needs_background": "light"
     },
     "output_type": "display_data"
    },
    {
     "name": "stdout",
     "output_type": "stream",
     "text": [
      "-0.035807543 1.1281965\n",
      "-0.00053526176 0.05\n"
     ]
    }
   ],
   "source": [
    "EPS = 0.001\n",
    "# ind_obj =  np.where((y >= -EPS) & (y <= EPS))\n",
    "ind_grp = sdf_grp <= EPS\n",
    "\n",
    "plot_sdf(queries[ind_grp], sdf_obj[ind_grp])\n",
    "\n",
    "print(min(gt_sdf_grp), max(gt_sdf_grp))\n",
    "print(min(sdf_grp), max(sdf_grp))"
   ]
  },
  {
   "cell_type": "code",
   "execution_count": 40,
   "id": "be09e674",
   "metadata": {},
   "outputs": [
    {
     "data": {
      "image/png": "[encoded data removed]",
      "text/plain": [
       "<Figure size 720x720 with 1 Axes>"
      ]
     },
     "metadata": {
      "needs_background": "light"
     },
     "output_type": "display_data"
    },
    {
     "name": "stdout",
     "output_type": "stream",
     "text": [
      "-0.035807543 1.1281965\n",
      "-0.05 0.05\n"
     ]
    }
   ],
   "source": [
    "EPS = 1e-5\n",
    "# ind_obj =  np.where((y >= -EPS) & y <= EPS))\n",
    "ind_grp = gt_sdf_grp <= EPS\n",
    "\n",
    "plot_sdf(queries[ind_grp], gt_sdf_grp[ind_grp])\n",
    "\n",
    "print(min(gt_sdf_grp), max(gt_sdf_grp))\n",
    "print(min(sdf_obj), max(sdf_obj))"
   ]
  },
  {
   "cell_type": "code",
   "execution_count": null,
   "id": "120e2d60",
   "metadata": {},
   "outputs": [],
   "source": []
  },
  {
   "cell_type": "code",
   "execution_count": 41,
   "id": "adc03720",
   "metadata": {},
   "outputs": [],
   "source": [
    "import pyrender\n",
    "# Just pass the points you want to visualize\n",
    "def plt_points_3d(pts):\n",
    "    colors = np.zeros(pts.shape)\n",
    "    cloud = pyrender.Mesh.from_points(pts, colors=colors)\n",
    "    scene = pyrender.Scene()\n",
    "    scene.add(cloud)\n",
    "    viewer = pyrender.Viewer(scene, use_raymond_lighting=True, point_size=2)\n",
    "\n",
    "# Pass the point as well as the sdf to see inside/outside points\n",
    "def plt_points_sdf(pts, sdf, eps=1e-4):\n",
    "    colors = np.zeros(pts.shape)\n",
    "    colors[sdf < eps, 1] = 1\n",
    "    colors[sdf > eps, 0] = 1\n",
    "    cloud = pyrender.Mesh.from_points(pts, colors=colors)\n",
    "    scene = pyrender.Scene()\n",
    "    scene.add(cloud)\n",
    "    viewer = pyrender.Viewer(scene, use_raymond_lighting=True, point_size=2)\n",
    "\n",
    "def plt_points_sdf_compare(pts, sdf_gt, sdf_pred):\n",
    "    colors = np.zeros(pts.shape)\n",
    "    colors[sdf_gt < 0, 1] = 1\n",
    "    colors[sdf_gt > 0, 0] = 1\n",
    "    cloud = pyrender.Mesh.from_points(pts, colors=colors)\n",
    "    scene = pyrender.Scene()\n",
    "    scene.add(cloud)\n",
    "    viewer = pyrender.Viewer(scene, use_raymond_lighting=True, point_size=2)\n",
    "    \n",
    "    colors2 = np.zeros(pts.shape)\n",
    "    colors2[sdf_pred < 0, 1] = 1\n",
    "    colors2[sdf_pred > 0, 0] = 1\n",
    "    cloud2 = pyrender.Mesh.from_points(pts, colors=colors2)\n",
    "    scene2 = pyrender.Scene()\n",
    "    scene2.add(cloud2)\n",
    "    viewer = pyrender.Viewer(scene2, use_raymond_lighting=True, point_size=2)"
   ]
  },
  {
   "cell_type": "code",
   "execution_count": 42,
   "id": "75bbe640",
   "metadata": {},
   "outputs": [],
   "source": [
    "plt_points_3d(queries[sdf_grp < 1e-4])"
   ]
  },
  {
   "cell_type": "code",
   "execution_count": null,
   "id": "486169cb",
   "metadata": {},
   "outputs": [],
   "source": [
    "plt_points_3d(queries[sdf_obj < 1e-4])"
   ]
  },
  {
   "cell_type": "code",
   "execution_count": null,
   "id": "e03dc38c",
   "metadata": {},
   "outputs": [],
   "source": [
    "plt_points_sdf(queries, sdf_grp)"
   ]
  },
  {
   "cell_type": "code",
   "execution_count": null,
   "id": "aca3d3b6",
   "metadata": {},
   "outputs": [],
   "source": [
    "plt_points_sdf(queries, sdf_obj)"
   ]
  },
  {
   "cell_type": "code",
   "execution_count": null,
   "id": "d33b3943",
   "metadata": {},
   "outputs": [],
   "source": []
  }
 ],
 "metadata": {
  "interpreter": {
   "hash": "828396f6010f0730e9cd4f02afef87f2dfb58bfe79cbcd1eff170bf9426e2a48"
  },
  "kernelspec": {
   "display_name": "Python 3.9.12 ('grasp-sdf')",
   "language": "python",
   "name": "python3"
  },
  "language_info": {
   "codemirror_mode": {
    "name": "ipython",
    "version": 3
   },
   "file_extension": ".py",
   "mimetype": "text/x-python",
   "name": "python",
   "nbconvert_exporter": "python",
   "pygments_lexer": "ipython3",
   "version": "3.9.12"
  }
 },
 "nbformat": 4,
 "nbformat_minor": 5
}
