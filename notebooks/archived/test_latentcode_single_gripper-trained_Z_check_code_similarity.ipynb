{
 "cells": [
  {
   "cell_type": "code",
   "execution_count": 2,
   "id": "b17a6fe9",
   "metadata": {},
   "outputs": [],
   "source": [
    "import argparse\n",
    "import json\n",
    "import logging\n",
    "import os\n",
    "import random\n",
    "import time\n",
    "\n",
    "import torch\n",
    "import numpy as np"
   ]
  },
  {
   "cell_type": "code",
   "execution_count": 3,
   "id": "b76d53b9",
   "metadata": {},
   "outputs": [],
   "source": [
    "import sys \n",
    "sys.path.append('..')\n",
    "import utils.misc as ws\n",
    "import utils.data_utils\n",
    "import utils.train_utils\n",
    "import utils.eval_utils\n",
    "import utils.mesh\n",
    "import utils.dataset as d\n",
    "import models.networks as arch\n"
   ]
  },
  {
   "cell_type": "code",
   "execution_count": 11,
   "id": "931d7d6a",
   "metadata": {},
   "outputs": [],
   "source": [
    "DATA_SOURCE = '/home/ninad/Desktop/Docs/phd-res/proj-irvl-grasp-transfer/code/docker-data/output_dataset/'\n",
    "EXPERIMENTS_DIR = '../experiments/epochs_2000_weight_0.5/'\n",
    "# EXPERIMENTS_DIR = '../experiments/epochs_3000_weight_0.8/'\n",
    "CHECKPOINT = 'latest'\n",
    "split_filename = '../split_train.json'\n",
    "specs_filename = os.path.join(EXPERIMENTS_DIR, \"specs.json\")\n",
    "\n",
    "LATENT_CODE_DIR = ws.latent_codes_subdir"
   ]
  },
  {
   "cell_type": "code",
   "execution_count": 14,
   "id": "88d34765",
   "metadata": {},
   "outputs": [],
   "source": [
    "object_model = '003_cracker_box_google_16k_textured_scale_1000'\n",
    "gripper_name = 'fetch_gripper'\n",
    "grasp_fpath = os.path.join(DATA_SOURCE, 'refined_grasps', f'refined_{object_model}-{gripper_name}.json')\n",
    "\n",
    "with open(grasp_fpath, \"r\") as gf:\n",
    "    all_grasp_data = json.load(gf)"
   ]
  },
  {
   "cell_type": "code",
   "execution_count": 82,
   "id": "1956310c",
   "metadata": {},
   "outputs": [
    {
     "name": "stdout",
     "output_type": "stream",
     "text": [
      "50\n",
      "40\n"
     ]
    }
   ],
   "source": [
    "grasp_data = all_grasp_data['grasps']\n",
    "print(len(grasp_data))\n",
    "\n",
    "\n",
    "# Only pick out the training poses\n",
    "# For us, its the first 40 poses.\n",
    "trn_poses_num = 40\n",
    "grasp_poses = [indiv_grasp['pose'] for indiv_grasp in grasp_data[:trn_poses_num]]\n",
    "\n",
    "print(len(grasp_poses))"
   ]
  },
  {
   "cell_type": "code",
   "execution_count": 83,
   "id": "d7dddd65",
   "metadata": {},
   "outputs": [],
   "source": [
    "from scipy.spatial.transform import Rotation\n",
    "from scipy.spatial.distance import pdist, cdist\n",
    "\n",
    "def get_euler_from_quat(quat):\n",
    "    rot = Rotation.from_quat(quat)\n",
    "    return rot.as_euler('xyz')\n",
    "\n",
    "def get_6d_pose(pose_7d):\n",
    "    return pose_7d[:3] + list(get_euler_from_quat(pose_7d[3:]))\n",
    "\n",
    "poses_6d = [get_6d_pose(pose) for pose in grasp_poses]"
   ]
  },
  {
   "cell_type": "code",
   "execution_count": 84,
   "id": "12285a2e",
   "metadata": {},
   "outputs": [
    {
     "name": "stdout",
     "output_type": "stream",
     "text": [
      "40\n",
      "(40, 6)\n",
      "[-0.00876582 -0.00328555 -0.13743711  1.06170688 -1.5414356  -2.62369915]\n"
     ]
    }
   ],
   "source": [
    "print(len(poses_6d))\n",
    "# its a list of lists\n",
    "# make it numpy friendly\n",
    "poses_6d = np.array(poses_6d)\n",
    "print(poses_6d.shape)\n",
    "print(poses_6d[0])"
   ]
  },
  {
   "cell_type": "code",
   "execution_count": 103,
   "id": "7a6bd4b5",
   "metadata": {},
   "outputs": [],
   "source": [
    "# Mask the (self) idx and then take argmin / argsort\n",
    "\n",
    "def get_argmin_ignore_self(mat, idx):\n",
    "    tmp_vec = np.ma.array(mat[idx])\n",
    "    tmp_vec[idx] = np.ma.masked\n",
    "    # ignore last entry as its equalt to idx\n",
    "    return tmp_vec.argmin()\n",
    "\n",
    "def get_argsort_ignore_self(mat, idx):\n",
    "    tmp_vec = np.ma.array(mat[idx])\n",
    "    tmp_vec[idx] = np.ma.masked\n",
    "    # ignore last entry as its equalt to idx\n",
    "    return tmp_vec.argsort()[:-1]"
   ]
  },
  {
   "cell_type": "code",
   "execution_count": null,
   "id": "312a58da",
   "metadata": {},
   "outputs": [],
   "source": []
  },
  {
   "cell_type": "code",
   "execution_count": 124,
   "id": "11e827a3",
   "metadata": {},
   "outputs": [],
   "source": [
    "pose_closest = [get_argmin_ignore_self(cdist(poses_6d, poses_6d), i) for i in range(poses_6d.shape[0])]\n",
    "pose_closest_idxs = [get_argsort_ignore_self(cdist(poses_6d, poses_6d), i) for i in range(poses_6d.shape[0])]"
   ]
  },
  {
   "cell_type": "code",
   "execution_count": 125,
   "id": "50168fa2",
   "metadata": {},
   "outputs": [
    {
     "name": "stdout",
     "output_type": "stream",
     "text": [
      "19\n",
      "[19 32 33 10 16  4 31 30  2 22  9 20 17 28 24 21 39  6  3 26  8 37 35 18\n",
      " 38  7 14 23 11 12 13 25 15  5 36 34 27 29  1]\n"
     ]
    }
   ],
   "source": [
    "print(pose_closest[0])\n",
    "\n",
    "print(pose_closest_idxs[0])\n"
   ]
  },
  {
   "cell_type": "code",
   "execution_count": null,
   "id": "2f11c839",
   "metadata": {},
   "outputs": [],
   "source": []
  },
  {
   "cell_type": "code",
   "execution_count": 88,
   "id": "c3bb0255",
   "metadata": {},
   "outputs": [],
   "source": [
    "specs = json.load(open(specs_filename))\n",
    "latent_size = specs[\"CodeLength\"]\n",
    "gripper_weight = specs[\"GripperWeight\"]"
   ]
  },
  {
   "cell_type": "code",
   "execution_count": 6,
   "id": "f0d632bf",
   "metadata": {},
   "outputs": [],
   "source": [
    "# decoder = arch.dsdfDecoder(latent_size, **specs[\"NetworkSpecs\"])\n",
    "\n",
    "# decoder = torch.nn.DataParallel(decoder)\n",
    "\n",
    "# saved_model_state = torch.load(\n",
    "#     os.path.join(\n",
    "#         EXPERIMENTS_DIR, ws.model_params_subdir, CHECKPOINT + \".pth\")\n",
    "# )\n",
    "\n",
    "# saved_model_epoch = saved_model_state[\"epoch\"]\n",
    "\n",
    "# decoder.load_state_dict(saved_model_state[\"model_state_dict\"])\n",
    "\n",
    "# decoder = decoder.module.cuda()"
   ]
  },
  {
   "cell_type": "code",
   "execution_count": 89,
   "id": "e5d26596",
   "metadata": {},
   "outputs": [
    {
     "name": "stderr",
     "output_type": "stream",
     "text": [
      "WARNING:root:Non-existent file count: 0\n"
     ]
    }
   ],
   "source": [
    "with open(split_filename, \"r\") as f:\n",
    "    split = json.load(f)\n",
    "\n",
    "# npz_filenames = utils.data_utils.dsdf_get_instance_filenames(\n",
    "#     args.data_source, split)\n",
    "npz_filenames = utils.data_utils.get_instance_filelist(DATA_SOURCE, split)\n",
    "\n",
    "# random.shuffle(npz_filenames) # WHY??? DISABLE THIS FOR CHECKING REPRODUCIBILITY"
   ]
  },
  {
   "cell_type": "code",
   "execution_count": 90,
   "id": "3c1c7fc8",
   "metadata": {},
   "outputs": [
    {
     "name": "stdout",
     "output_type": "stream",
     "text": [
      "_graspnum_0.npz\n",
      "_graspnum_1.npz\n",
      "_graspnum_2.npz\n",
      "_graspnum_3.npz\n",
      "_graspnum_4.npz\n",
      "_graspnum_5.npz\n",
      "_graspnum_6.npz\n",
      "_graspnum_7.npz\n",
      "_graspnum_8.npz\n",
      "_graspnum_9.npz\n",
      "graspnum_10.npz\n",
      "graspnum_11.npz\n",
      "graspnum_12.npz\n",
      "graspnum_13.npz\n",
      "graspnum_14.npz\n",
      "graspnum_15.npz\n",
      "graspnum_16.npz\n",
      "graspnum_17.npz\n",
      "graspnum_18.npz\n",
      "graspnum_19.npz\n",
      "graspnum_20.npz\n",
      "graspnum_21.npz\n",
      "graspnum_22.npz\n",
      "graspnum_23.npz\n",
      "graspnum_24.npz\n",
      "graspnum_25.npz\n",
      "graspnum_26.npz\n",
      "graspnum_27.npz\n",
      "graspnum_28.npz\n",
      "graspnum_29.npz\n",
      "graspnum_30.npz\n",
      "graspnum_31.npz\n",
      "graspnum_32.npz\n",
      "graspnum_33.npz\n",
      "graspnum_34.npz\n",
      "graspnum_35.npz\n",
      "graspnum_36.npz\n",
      "graspnum_37.npz\n",
      "graspnum_38.npz\n",
      "graspnum_39.npz\n"
     ]
    }
   ],
   "source": [
    "for f in npz_filenames:\n",
    "    print(f[-15:])"
   ]
  },
  {
   "cell_type": "code",
   "execution_count": 91,
   "id": "696dfe71",
   "metadata": {},
   "outputs": [
    {
     "name": "stdout",
     "output_type": "stream",
     "text": [
      "torch.Size([40, 256])\n"
     ]
    }
   ],
   "source": [
    "latent_vecs = ws.load_latent_vectors(EXPERIMENTS_DIR, CHECKPOINT)\n",
    "print(latent_vecs.shape)"
   ]
  },
  {
   "cell_type": "code",
   "execution_count": 92,
   "id": "a9c68d0e",
   "metadata": {},
   "outputs": [],
   "source": [
    "lv_numpy = latent_vecs.cpu().numpy()"
   ]
  },
  {
   "cell_type": "code",
   "execution_count": 93,
   "id": "8340821a",
   "metadata": {},
   "outputs": [
    {
     "data": {
      "text/plain": [
       "(40, 256)"
      ]
     },
     "execution_count": 93,
     "metadata": {},
     "output_type": "execute_result"
    }
   ],
   "source": [
    "lv_numpy.shape"
   ]
  },
  {
   "cell_type": "code",
   "execution_count": 126,
   "id": "4238ed30",
   "metadata": {},
   "outputs": [],
   "source": [
    "lv_closest = np.array([get_argmin_ignore_self(cdist(lv_numpy, lv_numpy), i) for i in range(lv_numpy.shape[0])])\n",
    "lv_closest_idxs = np.array([get_argsort_ignore_self(cdist(lv_numpy, lv_numpy), i) for i in range(lv_numpy.shape[0])])"
   ]
  },
  {
   "cell_type": "code",
   "execution_count": 127,
   "id": "60fa3e9e",
   "metadata": {},
   "outputs": [
    {
     "name": "stdout",
     "output_type": "stream",
     "text": [
      "[30 17  9 19  0 33 32 23 31 16  4 22 13 10 38 11 20 35  7 27 25 14 15  3\n",
      " 24 26 36 34  6 39 18  8 37  5 12 21 29 28  1]\n",
      "[12 37 18  5  8 36 31 29  9 16  1 17 32 33 38 15 34  4 39 10 21  0 20 30\n",
      " 19 35 25  7 26 28 27 22  3 23 14 11  6 24 13]\n"
     ]
    }
   ],
   "source": [
    "target_idx = 2\n",
    "\n",
    "print(pose_closest_idxs[target_idx])\n",
    "\n",
    "print(lv_closest_idxs[target_idx])"
   ]
  },
  {
   "cell_type": "code",
   "execution_count": 139,
   "id": "404abc9a",
   "metadata": {},
   "outputs": [
    {
     "data": {
      "text/plain": [
       "3"
      ]
     },
     "execution_count": 139,
     "metadata": {},
     "output_type": "execute_result"
    }
   ],
   "source": [
    "sum(pose_closest == lv_closest)"
   ]
  },
  {
   "cell_type": "code",
   "execution_count": 151,
   "id": "bfbb682a",
   "metadata": {},
   "outputs": [],
   "source": [
    "def count_topk(queries, target_idxs, k):\n",
    "    return sum([val in target_idxs[i][:k] for i, val in enumerate(queries)])"
   ]
  },
  {
   "cell_type": "code",
   "execution_count": 150,
   "id": "eb702dc7",
   "metadata": {},
   "outputs": [
    {
     "name": "stdout",
     "output_type": "stream",
     "text": [
      "check if the closest pose is in the top-k closest latent vectors\n",
      "8\n",
      "16\n",
      "29\n",
      "\n",
      "\n",
      "check if the closest lv is in the top-k closest poses\n",
      "15\n",
      "20\n",
      "23\n"
     ]
    }
   ],
   "source": [
    "print('check if the closest pose is in the top-k closest latent vectors')\n",
    "print(count_topk(pose_closest, lv_closest_idxs, 3))\n",
    "print(count_topk(pose_closest, lv_closest_idxs, 5))\n",
    "print(count_topk(pose_closest, lv_closest_idxs, 10))\n",
    "\n",
    "print('\\n')\n",
    "# Now do the opposite!\n",
    "print('check if the closest lv is in the top-k closest poses')\n",
    "print(count_topk(lv_closest, pose_closest_idxs, 3))\n",
    "print(count_topk(lv_closest, pose_closest_idxs, 5))\n",
    "print(count_topk(lv_closest, pose_closest_idxs, 10))"
   ]
  },
  {
   "cell_type": "code",
   "execution_count": null,
   "id": "dd97e055",
   "metadata": {},
   "outputs": [],
   "source": []
  },
  {
   "cell_type": "code",
   "execution_count": null,
   "id": "eb881cd7",
   "metadata": {},
   "outputs": [],
   "source": []
  },
  {
   "cell_type": "code",
   "execution_count": 10,
   "id": "3de4e981",
   "metadata": {},
   "outputs": [
    {
     "name": "stdout",
     "output_type": "stream",
     "text": [
      "29 graspnum_29.npz\n"
     ]
    }
   ],
   "source": [
    "index_to_select = random.randint(0, len(npz_filenames)-1)\n",
    "\n",
    "npz = npz_filenames[index_to_select]\n",
    "\n",
    "full_filename = npz\n",
    "\n",
    "print(index_to_select, npz[-15:])\n"
   ]
  },
  {
   "cell_type": "code",
   "execution_count": 11,
   "id": "b79088c7",
   "metadata": {},
   "outputs": [],
   "source": [
    "latent_vec = latent_vecs[index_to_select]"
   ]
  },
  {
   "cell_type": "code",
   "execution_count": 12,
   "id": "a1e14b7a",
   "metadata": {},
   "outputs": [
    {
     "name": "stdout",
     "output_type": "stream",
     "text": [
      "torch.Size([256])\n"
     ]
    }
   ],
   "source": [
    "latent_vec = latent_vec.squeeze()\n",
    "print(latent_vec.shape)"
   ]
  },
  {
   "cell_type": "code",
   "execution_count": null,
   "id": "53984650",
   "metadata": {},
   "outputs": [],
   "source": []
  },
  {
   "cell_type": "code",
   "execution_count": 13,
   "id": "2aa46221",
   "metadata": {},
   "outputs": [
    {
     "name": "stdout",
     "output_type": "stream",
     "text": [
      "sampling takes: 11.106714\n"
     ]
    }
   ],
   "source": [
    "####### MESH RECONSTRUCTION CODE!\n",
    "\n",
    "is_gripper = True\n",
    "\n",
    "if is_gripper:\n",
    "    mesh_filename = os.path.join(EXPERIMENTS_DIR, f'test_{npz[-15:]}')\n",
    "else:\n",
    "    mesh_filename = os.path.join(EXPERIMENTS_DIR, f'test_o_{npz[-15:]}')\n",
    "\n",
    "\n",
    "latent_vec = latent_vec.squeeze().cuda()\n",
    "with torch.no_grad():\n",
    "    utils.mesh.create_mesh_custom(\n",
    "        decoder, latent_vec, mesh_filename, N=256, max_batch=int(2 ** 18), isGripper=is_gripper)\n"
   ]
  },
  {
   "cell_type": "code",
   "execution_count": null,
   "id": "0da73c68",
   "metadata": {},
   "outputs": [],
   "source": []
  },
  {
   "cell_type": "code",
   "execution_count": 14,
   "id": "7014bec7",
   "metadata": {},
   "outputs": [
    {
     "name": "stderr",
     "output_type": "stream",
     "text": [
      "WARNING:root:Non-existent file count: 0\n"
     ]
    }
   ],
   "source": [
    "# IMPORTANT: HAVE SHUFFLE = FALSE SO THAT SAME DATA POINT IS LOADED AS index_to_select\n",
    "\n",
    "sdf_dataset = d.SDFSamples(DATA_SOURCE, split, 1000000)\n",
    "\n",
    "sdf_loader = torch.utils.data.DataLoader(\n",
    "    sdf_dataset,\n",
    "    batch_size=1,\n",
    "    shuffle=False,\n",
    "    num_workers=8,\n",
    "    drop_last=True )"
   ]
  },
  {
   "cell_type": "code",
   "execution_count": 15,
   "id": "9ae61d2c",
   "metadata": {},
   "outputs": [
    {
     "name": "stdout",
     "output_type": "stream",
     "text": [
      "00/sdf/fetch_gripper/sdf_graspnum_29.npz\n",
      "(1000000,)\n"
     ]
    }
   ],
   "source": [
    "# samples, npzfile = next(iter(sdf_loader))\n",
    "samples, idx, npzfile = sdf_dataset[index_to_select]\n",
    "print(npzfile[-40:])\n",
    "\n",
    "queries = samples[:, :3] # Need to pass this through the network\n",
    "gt_sdf_obj = samples[:, 3].squeeze().numpy()\n",
    "gt_sdf_grp = samples[:, 4].squeeze().numpy()\n",
    "print(gt_sdf_grp.shape)"
   ]
  },
  {
   "cell_type": "code",
   "execution_count": 15,
   "id": "81bafb19",
   "metadata": {},
   "outputs": [
    {
     "name": "stdout",
     "output_type": "stream",
     "text": [
      "torch.Size([1000000, 5])\n"
     ]
    }
   ],
   "source": [
    "print(samples.shape)"
   ]
  },
  {
   "cell_type": "code",
   "execution_count": null,
   "id": "34a1e48a",
   "metadata": {},
   "outputs": [],
   "source": []
  },
  {
   "cell_type": "code",
   "execution_count": 16,
   "id": "1fe39f5b",
   "metadata": {},
   "outputs": [],
   "source": [
    "with torch.no_grad():\n",
    "    queries, sdf_obj, sdf_grp = utils.eval_utils.eval_query_pc(decoder, latent_vec.cuda(), queries)"
   ]
  },
  {
   "cell_type": "code",
   "execution_count": null,
   "id": "4d7fbfbe",
   "metadata": {},
   "outputs": [],
   "source": []
  },
  {
   "cell_type": "code",
   "execution_count": null,
   "id": "564e2acd",
   "metadata": {},
   "outputs": [],
   "source": []
  },
  {
   "cell_type": "code",
   "execution_count": null,
   "id": "a8235514",
   "metadata": {},
   "outputs": [],
   "source": []
  },
  {
   "cell_type": "code",
   "execution_count": 17,
   "id": "62d47cca",
   "metadata": {},
   "outputs": [],
   "source": [
    "queries = queries.detach().cpu().numpy()\n",
    "sdf_obj = sdf_obj.detach().cpu().numpy()\n",
    "sdf_grp = sdf_grp.detach().cpu().numpy()"
   ]
  },
  {
   "cell_type": "code",
   "execution_count": 18,
   "id": "c15e535e",
   "metadata": {},
   "outputs": [
    {
     "name": "stdout",
     "output_type": "stream",
     "text": [
      "(1000000,)\n",
      "(1000000,)\n",
      "(1000000, 3)\n"
     ]
    }
   ],
   "source": [
    "print(sdf_grp.shape)\n",
    "print(sdf_obj.shape)\n",
    "print(queries.shape)"
   ]
  },
  {
   "cell_type": "code",
   "execution_count": 19,
   "id": "99742906",
   "metadata": {},
   "outputs": [],
   "source": [
    "import matplotlib.pyplot as plt\n",
    "from mpl_toolkits.mplot3d import Axes3D\n",
    "%matplotlib inline\n",
    "\n",
    "def plot_sdf(xyz, sdf, title='Sample_Title', n_display=10000):\n",
    "    fig = plt.figure(figsize = (10,10))\n",
    "    ax = fig.add_subplot(111, projection='3d')    \n",
    "\n",
    "    ind = np.random.choice(range(xyz.shape[0]), n_display)\n",
    "    data = xyz[ind].T\n",
    "\n",
    "    ax.scatter(data[0], data[2], data[1], s=5, c=sdf[ind])\n",
    "    ax.view_init(20, 100)\n",
    "    limit = (-0.95, 0.95)\n",
    "    ax.set_xlim3d(*limit)\n",
    "    ax.set_ylim3d(*limit)\n",
    "    ax.set_zlim3d(*limit)\n",
    "    plt.title(title)\n",
    "    plt.show()"
   ]
  },
  {
   "cell_type": "code",
   "execution_count": 22,
   "id": "1cb9f7bd",
   "metadata": {},
   "outputs": [
    {
     "data": {
      "image/png": "[encoded data removed]",
      "text/plain": [
       "<Figure size 720x720 with 1 Axes>"
      ]
     },
     "metadata": {
      "needs_background": "light"
     },
     "output_type": "display_data"
    },
    {
     "data": {
      "text/plain": [
       "-0.0004404727"
      ]
     },
     "execution_count": 22,
     "metadata": {},
     "output_type": "execute_result"
    }
   ],
   "source": [
    "EPS = -1e-4\n",
    "# ind_obj =  np.where((y >= -EPS) & (y <= EPS))\n",
    "ind_grp = sdf_grp <= EPS\n",
    "\n",
    "plot_sdf(queries[ind_grp], sdf_obj[ind_grp])\n",
    "\n",
    "min(sdf_grp)"
   ]
  },
  {
   "cell_type": "code",
   "execution_count": 23,
   "id": "be09e674",
   "metadata": {},
   "outputs": [
    {
     "data": {
      "image/png": "[encoded data removed]",
      "text/plain": [
       "<Figure size 720x720 with 1 Axes>"
      ]
     },
     "metadata": {
      "needs_background": "light"
     },
     "output_type": "display_data"
    },
    {
     "data": {
      "text/plain": [
       "-0.12474868"
      ]
     },
     "execution_count": 23,
     "metadata": {},
     "output_type": "execute_result"
    }
   ],
   "source": [
    "EPS = -1e-4\n",
    "# ind_obj =  np.where((y >= -EPS) & (y <= EPS))\n",
    "ind_grp = gt_sdf_grp <= EPS\n",
    "\n",
    "plot_sdf(queries[ind_grp], gt_sdf_grp[ind_grp])\n",
    "\n",
    "min(gt_sdf_obj)"
   ]
  },
  {
   "cell_type": "code",
   "execution_count": null,
   "id": "120e2d60",
   "metadata": {},
   "outputs": [],
   "source": []
  },
  {
   "cell_type": "code",
   "execution_count": 24,
   "id": "adc03720",
   "metadata": {},
   "outputs": [],
   "source": [
    "import pyrender\n",
    "# Just pass the points you want to visualize\n",
    "def plt_points_3d(pts):\n",
    "    colors = np.zeros(pts.shape)\n",
    "    cloud = pyrender.Mesh.from_points(pts, colors=colors)\n",
    "    scene = pyrender.Scene()\n",
    "    scene.add(cloud)\n",
    "    viewer = pyrender.Viewer(scene, use_raymond_lighting=True, point_size=2)\n",
    "\n",
    "# Pass the point as well as the sdf to see inside/outside points\n",
    "def plt_points_sdf(pts, sdf, eps=1e-4):\n",
    "    colors = np.zeros(pts.shape)\n",
    "    colors[sdf < eps, 1] = 1\n",
    "    colors[sdf > eps, 0] = 1\n",
    "    cloud = pyrender.Mesh.from_points(pts, colors=colors)\n",
    "    scene = pyrender.Scene()\n",
    "    scene.add(cloud)\n",
    "    viewer = pyrender.Viewer(scene, use_raymond_lighting=True, point_size=2)\n",
    "\n",
    "def plt_points_sdf_compare(pts, sdf_gt, sdf_pred):\n",
    "    colors = np.zeros(pts.shape)\n",
    "    colors[sdf_gt < 0, 1] = 1\n",
    "    colors[sdf_gt > 0, 0] = 1\n",
    "    cloud = pyrender.Mesh.from_points(pts, colors=colors)\n",
    "    scene = pyrender.Scene()\n",
    "    scene.add(cloud)\n",
    "    viewer = pyrender.Viewer(scene, use_raymond_lighting=True, point_size=2)\n",
    "    \n",
    "    colors2 = np.zeros(pts.shape)\n",
    "    colors2[sdf_pred < 0, 1] = 1\n",
    "    colors2[sdf_pred > 0, 0] = 1\n",
    "    cloud2 = pyrender.Mesh.from_points(pts, colors=colors2)\n",
    "    scene2 = pyrender.Scene()\n",
    "    scene2.add(cloud2)\n",
    "    viewer = pyrender.Viewer(scene2, use_raymond_lighting=True, point_size=2)"
   ]
  },
  {
   "cell_type": "code",
   "execution_count": 27,
   "id": "75bbe640",
   "metadata": {},
   "outputs": [],
   "source": [
    "plt_points_3d(queries[sdf_grp < 1e-4])"
   ]
  },
  {
   "cell_type": "code",
   "execution_count": 30,
   "id": "486169cb",
   "metadata": {},
   "outputs": [],
   "source": [
    "plt_points_3d(queries[sdf_obj < 1e-1])"
   ]
  },
  {
   "cell_type": "code",
   "execution_count": 31,
   "id": "e03dc38c",
   "metadata": {},
   "outputs": [],
   "source": [
    "plt_points_sdf(queries, sdf_grp)"
   ]
  },
  {
   "cell_type": "code",
   "execution_count": 32,
   "id": "aca3d3b6",
   "metadata": {},
   "outputs": [],
   "source": [
    "plt_points_sdf(queries, sdf_obj)"
   ]
  },
  {
   "cell_type": "code",
   "execution_count": null,
   "id": "d33b3943",
   "metadata": {},
   "outputs": [],
   "source": []
  }
 ],
 "metadata": {
  "kernelspec": {
   "display_name": "Python 3 (ipykernel)",
   "language": "python",
   "name": "python3"
  },
  "language_info": {
   "codemirror_mode": {
    "name": "ipython",
    "version": 3
   },
   "file_extension": ".py",
   "mimetype": "text/x-python",
   "name": "python",
   "nbconvert_exporter": "python",
   "pygments_lexer": "ipython3",
   "version": "3.9.12"
  }
 },
 "nbformat": 4,
 "nbformat_minor": 5
}
