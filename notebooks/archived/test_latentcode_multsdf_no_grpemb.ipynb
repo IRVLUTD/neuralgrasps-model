{
 "cells": [
  {
   "cell_type": "code",
   "execution_count": 1,
   "id": "b17a6fe9",
   "metadata": {},
   "outputs": [],
   "source": [
    "import argparse\n",
    "import json\n",
    "import logging\n",
    "import os\n",
    "import random\n",
    "import time\n",
    "\n",
    "import torch\n",
    "import numpy as np"
   ]
  },
  {
   "cell_type": "code",
   "execution_count": 2,
   "id": "b76d53b9",
   "metadata": {},
   "outputs": [],
   "source": [
    "import sys \n",
    "sys.path.append('..')\n",
    "import utils.misc as ws\n",
    "import utils.data_utils\n",
    "import utils.train_utils\n",
    "import utils.eval_utils\n",
    "import utils.mesh\n",
    "import utils.dataset as d\n",
    "import models.networks as arch\n"
   ]
  },
  {
   "cell_type": "code",
   "execution_count": 3,
   "id": "931d7d6a",
   "metadata": {},
   "outputs": [],
   "source": [
    "DATA_SOURCE = '/home/ninad/Desktop/Docs/phd-res/proj-irvl-grasp-transfer/code/docker-data/output_dataset/'\n",
    "# EXPERIMENTS_DIR = '../experiments/epochs_2000_weight_0.5/'\n",
    "EXPERIMENTS_DIR = '../experiments/all3_multisdf_nogrpemb/'\n",
    "CHECKPOINT = 'latest'\n",
    "split_filename = os.path.join(EXPERIMENTS_DIR, 'split_train.json')\n",
    "specs_filename = os.path.join(EXPERIMENTS_DIR, \"specs.json\")\n",
    "\n",
    "LATENT_CODE_DIR = ws.latent_codes_subdir"
   ]
  },
  {
   "cell_type": "code",
   "execution_count": 4,
   "id": "c3bb0255",
   "metadata": {},
   "outputs": [],
   "source": [
    "specs = json.load(open(specs_filename))\n",
    "latent_size = specs[\"CodeLength\"]\n",
    "gripper_weight = specs[\"GripperWeight\"]\n",
    "num_grippers = specs[\"NumGrippers\"]"
   ]
  },
  {
   "cell_type": "code",
   "execution_count": 5,
   "id": "f0d632bf",
   "metadata": {},
   "outputs": [],
   "source": [
    "decoder = arch.MultiSDFDecoder(latent_size, num_grippers+1, **specs[\"NetworkSpecs\"]).cuda()\n",
    "\n",
    "decoder = torch.nn.DataParallel(decoder)\n",
    "\n",
    "saved_model_state = torch.load(\n",
    "    os.path.join(\n",
    "        EXPERIMENTS_DIR, ws.model_params_subdir, CHECKPOINT + \".pth\")\n",
    ")\n",
    "\n",
    "saved_model_epoch = saved_model_state[\"epoch\"]\n",
    "\n",
    "decoder.load_state_dict(saved_model_state[\"model_state_dict\"])\n",
    "\n",
    "decoder = decoder.module.cuda()"
   ]
  },
  {
   "cell_type": "code",
   "execution_count": 6,
   "id": "e5d26596",
   "metadata": {},
   "outputs": [
    {
     "name": "stderr",
     "output_type": "stream",
     "text": [
      "WARNING:root:Non-existent file count: 0\n"
     ]
    }
   ],
   "source": [
    "with open(split_filename, \"r\") as f:\n",
    "    split = json.load(f)\n",
    "\n",
    "# npz_filenames = utils.data_utils.dsdf_get_instance_filenames(\n",
    "#     args.data_source, split)\n",
    "grp_names, gpc_f, npz_filenames = utils.data_utils.get_instance_filelist(DATA_SOURCE, split)\n",
    "\n",
    "# random.shuffle(npz_filenames) # WHY??? DISABLE THIS FOR CHECKING REPRODUCIBILITY"
   ]
  },
  {
   "cell_type": "code",
   "execution_count": 7,
   "id": "3c1c7fc8",
   "metadata": {},
   "outputs": [
    {
     "name": "stdout",
     "output_type": "stream",
     "text": [
      "df/fetch_gripper/sdf_graspnum_0.npz\n",
      "df/fetch_gripper/sdf_graspnum_1.npz\n",
      "df/fetch_gripper/sdf_graspnum_2.npz\n",
      "df/fetch_gripper/sdf_graspnum_3.npz\n",
      "df/fetch_gripper/sdf_graspnum_4.npz\n",
      "df/fetch_gripper/sdf_graspnum_5.npz\n",
      "df/fetch_gripper/sdf_graspnum_6.npz\n",
      "df/fetch_gripper/sdf_graspnum_7.npz\n",
      "df/fetch_gripper/sdf_graspnum_8.npz\n",
      "df/fetch_gripper/sdf_graspnum_9.npz\n",
      "f/fetch_gripper/sdf_graspnum_10.npz\n",
      "f/fetch_gripper/sdf_graspnum_11.npz\n",
      "f/fetch_gripper/sdf_graspnum_12.npz\n",
      "f/fetch_gripper/sdf_graspnum_13.npz\n",
      "f/fetch_gripper/sdf_graspnum_14.npz\n",
      "f/fetch_gripper/sdf_graspnum_15.npz\n",
      "f/fetch_gripper/sdf_graspnum_16.npz\n",
      "f/fetch_gripper/sdf_graspnum_17.npz\n",
      "f/fetch_gripper/sdf_graspnum_18.npz\n",
      "f/fetch_gripper/sdf_graspnum_19.npz\n",
      "f/fetch_gripper/sdf_graspnum_20.npz\n",
      "f/fetch_gripper/sdf_graspnum_21.npz\n",
      "f/fetch_gripper/sdf_graspnum_22.npz\n",
      "f/fetch_gripper/sdf_graspnum_23.npz\n",
      "f/fetch_gripper/sdf_graspnum_24.npz\n",
      "f/fetch_gripper/sdf_graspnum_25.npz\n",
      "f/fetch_gripper/sdf_graspnum_26.npz\n",
      "f/fetch_gripper/sdf_graspnum_27.npz\n",
      "f/fetch_gripper/sdf_graspnum_28.npz\n",
      "f/fetch_gripper/sdf_graspnum_29.npz\n",
      "f/fetch_gripper/sdf_graspnum_30.npz\n",
      "f/fetch_gripper/sdf_graspnum_31.npz\n",
      "f/fetch_gripper/sdf_graspnum_32.npz\n",
      "f/fetch_gripper/sdf_graspnum_33.npz\n",
      "f/fetch_gripper/sdf_graspnum_34.npz\n",
      "f/fetch_gripper/sdf_graspnum_35.npz\n",
      "f/fetch_gripper/sdf_graspnum_36.npz\n",
      "f/fetch_gripper/sdf_graspnum_37.npz\n",
      "f/fetch_gripper/sdf_graspnum_38.npz\n",
      "f/fetch_gripper/sdf_graspnum_39.npz\n",
      "1000/sdf/Barrett/sdf_graspnum_0.npz\n",
      "1000/sdf/Barrett/sdf_graspnum_1.npz\n",
      "1000/sdf/Barrett/sdf_graspnum_2.npz\n",
      "1000/sdf/Barrett/sdf_graspnum_3.npz\n",
      "1000/sdf/Barrett/sdf_graspnum_4.npz\n",
      "1000/sdf/Barrett/sdf_graspnum_5.npz\n",
      "1000/sdf/Barrett/sdf_graspnum_6.npz\n",
      "1000/sdf/Barrett/sdf_graspnum_7.npz\n",
      "1000/sdf/Barrett/sdf_graspnum_8.npz\n",
      "1000/sdf/Barrett/sdf_graspnum_9.npz\n",
      "000/sdf/Barrett/sdf_graspnum_10.npz\n",
      "000/sdf/Barrett/sdf_graspnum_11.npz\n",
      "000/sdf/Barrett/sdf_graspnum_12.npz\n",
      "000/sdf/Barrett/sdf_graspnum_13.npz\n",
      "000/sdf/Barrett/sdf_graspnum_14.npz\n",
      "000/sdf/Barrett/sdf_graspnum_15.npz\n",
      "000/sdf/Barrett/sdf_graspnum_16.npz\n",
      "000/sdf/Barrett/sdf_graspnum_17.npz\n",
      "000/sdf/Barrett/sdf_graspnum_18.npz\n",
      "000/sdf/Barrett/sdf_graspnum_19.npz\n",
      "000/sdf/Barrett/sdf_graspnum_20.npz\n",
      "000/sdf/Barrett/sdf_graspnum_21.npz\n",
      "000/sdf/Barrett/sdf_graspnum_22.npz\n",
      "000/sdf/Barrett/sdf_graspnum_23.npz\n",
      "000/sdf/Barrett/sdf_graspnum_24.npz\n",
      "000/sdf/Barrett/sdf_graspnum_25.npz\n",
      "000/sdf/Barrett/sdf_graspnum_26.npz\n",
      "000/sdf/Barrett/sdf_graspnum_27.npz\n",
      "000/sdf/Barrett/sdf_graspnum_28.npz\n",
      "000/sdf/Barrett/sdf_graspnum_29.npz\n",
      "000/sdf/Barrett/sdf_graspnum_30.npz\n",
      "000/sdf/Barrett/sdf_graspnum_31.npz\n",
      "000/sdf/Barrett/sdf_graspnum_32.npz\n",
      "000/sdf/Barrett/sdf_graspnum_33.npz\n",
      "000/sdf/Barrett/sdf_graspnum_34.npz\n",
      "000/sdf/Barrett/sdf_graspnum_35.npz\n",
      "000/sdf/Barrett/sdf_graspnum_36.npz\n",
      "000/sdf/Barrett/sdf_graspnum_37.npz\n",
      "000/sdf/Barrett/sdf_graspnum_38.npz\n",
      "000/sdf/Barrett/sdf_graspnum_39.npz\n",
      "00/sdf/HumanHand/sdf_graspnum_0.npz\n",
      "00/sdf/HumanHand/sdf_graspnum_1.npz\n",
      "00/sdf/HumanHand/sdf_graspnum_2.npz\n",
      "00/sdf/HumanHand/sdf_graspnum_3.npz\n",
      "00/sdf/HumanHand/sdf_graspnum_4.npz\n",
      "00/sdf/HumanHand/sdf_graspnum_5.npz\n",
      "00/sdf/HumanHand/sdf_graspnum_6.npz\n",
      "00/sdf/HumanHand/sdf_graspnum_7.npz\n",
      "00/sdf/HumanHand/sdf_graspnum_8.npz\n",
      "00/sdf/HumanHand/sdf_graspnum_9.npz\n",
      "0/sdf/HumanHand/sdf_graspnum_10.npz\n",
      "0/sdf/HumanHand/sdf_graspnum_11.npz\n",
      "0/sdf/HumanHand/sdf_graspnum_12.npz\n",
      "0/sdf/HumanHand/sdf_graspnum_13.npz\n",
      "0/sdf/HumanHand/sdf_graspnum_14.npz\n",
      "0/sdf/HumanHand/sdf_graspnum_15.npz\n",
      "0/sdf/HumanHand/sdf_graspnum_16.npz\n",
      "0/sdf/HumanHand/sdf_graspnum_17.npz\n",
      "0/sdf/HumanHand/sdf_graspnum_18.npz\n",
      "0/sdf/HumanHand/sdf_graspnum_19.npz\n",
      "0/sdf/HumanHand/sdf_graspnum_20.npz\n",
      "0/sdf/HumanHand/sdf_graspnum_21.npz\n",
      "0/sdf/HumanHand/sdf_graspnum_22.npz\n",
      "0/sdf/HumanHand/sdf_graspnum_23.npz\n",
      "0/sdf/HumanHand/sdf_graspnum_24.npz\n",
      "0/sdf/HumanHand/sdf_graspnum_25.npz\n",
      "0/sdf/HumanHand/sdf_graspnum_26.npz\n",
      "0/sdf/HumanHand/sdf_graspnum_27.npz\n",
      "0/sdf/HumanHand/sdf_graspnum_28.npz\n",
      "0/sdf/HumanHand/sdf_graspnum_29.npz\n",
      "0/sdf/HumanHand/sdf_graspnum_30.npz\n",
      "0/sdf/HumanHand/sdf_graspnum_31.npz\n",
      "0/sdf/HumanHand/sdf_graspnum_32.npz\n",
      "0/sdf/HumanHand/sdf_graspnum_33.npz\n",
      "0/sdf/HumanHand/sdf_graspnum_34.npz\n",
      "0/sdf/HumanHand/sdf_graspnum_35.npz\n",
      "0/sdf/HumanHand/sdf_graspnum_36.npz\n",
      "0/sdf/HumanHand/sdf_graspnum_37.npz\n",
      "0/sdf/HumanHand/sdf_graspnum_38.npz\n",
      "0/sdf/HumanHand/sdf_graspnum_39.npz\n"
     ]
    }
   ],
   "source": [
    "for f in npz_filenames:\n",
    "    print(f[-35:])"
   ]
  },
  {
   "cell_type": "code",
   "execution_count": 8,
   "id": "696dfe71",
   "metadata": {},
   "outputs": [
    {
     "name": "stdout",
     "output_type": "stream",
     "text": [
      "torch.Size([120, 256])\n"
     ]
    }
   ],
   "source": [
    "latent_vecs = ws.load_latent_vectors(EXPERIMENTS_DIR, CHECKPOINT)\n",
    "print(latent_vecs.shape)"
   ]
  },
  {
   "cell_type": "code",
   "execution_count": 74,
   "id": "3de4e981",
   "metadata": {},
   "outputs": [
    {
     "name": "stdout",
     "output_type": "stream",
     "text": [
      "95 0/sdf/HumanHand/sdf_graspnum_15.npz\n"
     ]
    }
   ],
   "source": [
    "index_to_select = random.randint(0, len(npz_filenames)-1)\n",
    "\n",
    "npz = npz_filenames[index_to_select]\n",
    "\n",
    "full_filename = npz\n",
    "\n",
    "print(index_to_select, npz[-35:])\n"
   ]
  },
  {
   "cell_type": "code",
   "execution_count": 75,
   "id": "b79088c7",
   "metadata": {},
   "outputs": [],
   "source": [
    "latent_vec = latent_vecs[index_to_select]"
   ]
  },
  {
   "cell_type": "code",
   "execution_count": 76,
   "id": "a1e14b7a",
   "metadata": {},
   "outputs": [
    {
     "name": "stdout",
     "output_type": "stream",
     "text": [
      "torch.Size([256])\n"
     ]
    }
   ],
   "source": [
    "latent_vec = latent_vec.squeeze()\n",
    "print(latent_vec.shape)"
   ]
  },
  {
   "cell_type": "code",
   "execution_count": null,
   "id": "53984650",
   "metadata": {},
   "outputs": [],
   "source": []
  },
  {
   "cell_type": "code",
   "execution_count": 77,
   "id": "2aa46221",
   "metadata": {},
   "outputs": [
    {
     "name": "stdout",
     "output_type": "stream",
     "text": [
      "sampling takes: 11.088969\n"
     ]
    }
   ],
   "source": [
    "####### MESH RECONSTRUCTION CODE!\n",
    "\n",
    "is_gripper = True\n",
    "\n",
    "if is_gripper:\n",
    "    mesh_filename = os.path.join(EXPERIMENTS_DIR, f'test_{npz[-15:]}')\n",
    "else:\n",
    "    mesh_filename = os.path.join(EXPERIMENTS_DIR, f'test_obj_{npz[-15:]}')\n",
    "\n",
    "\n",
    "latent_vec = latent_vec.squeeze().cuda()\n",
    "with torch.no_grad():\n",
    "    utils.mesh.create_mesh_custom(\n",
    "        decoder, latent_vec, mesh_filename, N=256, max_batch=int(2 ** 18), isGripper=is_gripper, gripper_idx=2)\n"
   ]
  },
  {
   "cell_type": "code",
   "execution_count": null,
   "id": "0da73c68",
   "metadata": {},
   "outputs": [],
   "source": []
  },
  {
   "cell_type": "code",
   "execution_count": 78,
   "id": "7014bec7",
   "metadata": {},
   "outputs": [
    {
     "name": "stderr",
     "output_type": "stream",
     "text": [
      "WARNING:root:Non-existent file count: 0\n"
     ]
    }
   ],
   "source": [
    "# IMPORTANT: HAVE SHUFFLE = FALSE SO THAT SAME DATA POINT IS LOADED AS index_to_select\n",
    "\n",
    "# sdf_dataset = d.SDFSamples(DATA_SOURCE, split, 1000000)\n",
    "\n",
    "sdf_dataset = d.MultiGripperSamples(DATA_SOURCE, split, 1000000)\n",
    "\n",
    "sdf_loader = torch.utils.data.DataLoader(\n",
    "    sdf_dataset,\n",
    "    batch_size=1,\n",
    "    shuffle=False,\n",
    "    num_workers=8,\n",
    "    drop_last=True )"
   ]
  },
  {
   "cell_type": "code",
   "execution_count": 79,
   "id": "9ae61d2c",
   "metadata": {},
   "outputs": [
    {
     "name": "stdout",
     "output_type": "stream",
     "text": [
      "e_1000/sdf/HumanHand/sdf_graspnum_15.npz\n",
      "(1000000,)\n"
     ]
    }
   ],
   "source": [
    "# samples, npzfile = next(iter(sdf_loader))\n",
    "g_idxs, _, samples, idx, npzfile = sdf_dataset[index_to_select]\n",
    "print(npzfile[-40:])\n",
    "\n",
    "queries = samples[:, :3] # Need to pass this through the network\n",
    "gt_sdf_obj = samples[:, 3].squeeze().numpy()\n",
    "gt_sdf_grp = samples[:, 4].squeeze().numpy()\n",
    "print(gt_sdf_grp.shape)"
   ]
  },
  {
   "cell_type": "code",
   "execution_count": 42,
   "id": "fb15c6e8",
   "metadata": {},
   "outputs": [
    {
     "name": "stdout",
     "output_type": "stream",
     "text": [
      "1\n"
     ]
    }
   ],
   "source": [
    "print(g_idxs)"
   ]
  },
  {
   "cell_type": "code",
   "execution_count": 43,
   "id": "517e6de4",
   "metadata": {},
   "outputs": [
    {
     "data": {
      "text/plain": [
       "[0,\n",
       " 0,\n",
       " 0,\n",
       " 0,\n",
       " 0,\n",
       " 0,\n",
       " 0,\n",
       " 0,\n",
       " 0,\n",
       " 0,\n",
       " 0,\n",
       " 0,\n",
       " 0,\n",
       " 0,\n",
       " 0,\n",
       " 0,\n",
       " 0,\n",
       " 0,\n",
       " 0,\n",
       " 0,\n",
       " 0,\n",
       " 0,\n",
       " 0,\n",
       " 0,\n",
       " 0,\n",
       " 0,\n",
       " 0,\n",
       " 0,\n",
       " 0,\n",
       " 0,\n",
       " 0,\n",
       " 0,\n",
       " 0,\n",
       " 0,\n",
       " 0,\n",
       " 0,\n",
       " 0,\n",
       " 0,\n",
       " 0,\n",
       " 0,\n",
       " 1,\n",
       " 1,\n",
       " 1,\n",
       " 1,\n",
       " 1,\n",
       " 1,\n",
       " 1,\n",
       " 1,\n",
       " 1,\n",
       " 1,\n",
       " 1,\n",
       " 1,\n",
       " 1,\n",
       " 1,\n",
       " 1,\n",
       " 1,\n",
       " 1,\n",
       " 1,\n",
       " 1,\n",
       " 1,\n",
       " 1,\n",
       " 1,\n",
       " 1,\n",
       " 1,\n",
       " 1,\n",
       " 1,\n",
       " 1,\n",
       " 1,\n",
       " 1,\n",
       " 1,\n",
       " 1,\n",
       " 1,\n",
       " 1,\n",
       " 1,\n",
       " 1,\n",
       " 1,\n",
       " 1,\n",
       " 1,\n",
       " 1,\n",
       " 1,\n",
       " 2,\n",
       " 2,\n",
       " 2,\n",
       " 2,\n",
       " 2,\n",
       " 2,\n",
       " 2,\n",
       " 2,\n",
       " 2,\n",
       " 2,\n",
       " 2,\n",
       " 2,\n",
       " 2,\n",
       " 2,\n",
       " 2,\n",
       " 2,\n",
       " 2,\n",
       " 2,\n",
       " 2,\n",
       " 2,\n",
       " 2,\n",
       " 2,\n",
       " 2,\n",
       " 2,\n",
       " 2,\n",
       " 2,\n",
       " 2,\n",
       " 2,\n",
       " 2,\n",
       " 2,\n",
       " 2,\n",
       " 2,\n",
       " 2,\n",
       " 2,\n",
       " 2,\n",
       " 2,\n",
       " 2,\n",
       " 2,\n",
       " 2,\n",
       " 2]"
      ]
     },
     "execution_count": 43,
     "metadata": {},
     "output_type": "execute_result"
    }
   ],
   "source": [
    "sdf_dataset.grp_idxs"
   ]
  },
  {
   "cell_type": "code",
   "execution_count": 52,
   "id": "81bafb19",
   "metadata": {},
   "outputs": [
    {
     "name": "stdout",
     "output_type": "stream",
     "text": [
      "torch.Size([1000000, 5])\n"
     ]
    }
   ],
   "source": [
    "print(samples.shape)"
   ]
  },
  {
   "cell_type": "code",
   "execution_count": null,
   "id": "34a1e48a",
   "metadata": {},
   "outputs": [],
   "source": []
  },
  {
   "cell_type": "code",
   "execution_count": 80,
   "id": "1fe39f5b",
   "metadata": {},
   "outputs": [],
   "source": [
    "with torch.no_grad():\n",
    "    queries, sdf_obj, sdf_grp = utils.eval_utils.eval_query_pc_multisdf(decoder, latent_vec.cuda(), queries, gripper_idx=2)"
   ]
  },
  {
   "cell_type": "code",
   "execution_count": null,
   "id": "4d7fbfbe",
   "metadata": {},
   "outputs": [],
   "source": []
  },
  {
   "cell_type": "code",
   "execution_count": null,
   "id": "564e2acd",
   "metadata": {},
   "outputs": [],
   "source": []
  },
  {
   "cell_type": "code",
   "execution_count": null,
   "id": "a8235514",
   "metadata": {},
   "outputs": [],
   "source": []
  },
  {
   "cell_type": "code",
   "execution_count": 81,
   "id": "62d47cca",
   "metadata": {},
   "outputs": [],
   "source": [
    "queries = queries.detach().cpu().numpy()\n",
    "sdf_obj = sdf_obj.detach().cpu().numpy()\n",
    "sdf_grp = sdf_grp.detach().cpu().numpy()"
   ]
  },
  {
   "cell_type": "code",
   "execution_count": 82,
   "id": "c15e535e",
   "metadata": {},
   "outputs": [
    {
     "name": "stdout",
     "output_type": "stream",
     "text": [
      "(1000000,)\n",
      "(1000000,)\n",
      "(1000000, 3)\n"
     ]
    }
   ],
   "source": [
    "print(sdf_grp.shape)\n",
    "print(sdf_obj.shape)\n",
    "print(queries.shape)"
   ]
  },
  {
   "cell_type": "code",
   "execution_count": 83,
   "id": "99742906",
   "metadata": {},
   "outputs": [],
   "source": [
    "import matplotlib.pyplot as plt\n",
    "from mpl_toolkits.mplot3d import Axes3D\n",
    "%matplotlib inline\n",
    "\n",
    "def plot_sdf(xyz, sdf, title='Sample_Title', n_display=10000):\n",
    "    fig = plt.figure(figsize = (10,10))\n",
    "    ax = fig.add_subplot(111, projection='3d')    \n",
    "\n",
    "    ind = np.random.choice(range(xyz.shape[0]), n_display)\n",
    "    data = xyz[ind].T\n",
    "\n",
    "    ax.scatter(data[0], data[2], data[1], s=5, c=sdf[ind])\n",
    "    ax.view_init(20, 100)\n",
    "    limit = (-0.95, 0.95)\n",
    "    ax.set_xlim3d(*limit)\n",
    "    ax.set_ylim3d(*limit)\n",
    "    ax.set_zlim3d(*limit)\n",
    "    plt.title(title)\n",
    "    plt.show()"
   ]
  },
  {
   "cell_type": "code",
   "execution_count": 85,
   "id": "1cb9f7bd",
   "metadata": {},
   "outputs": [
    {
     "data": {
      "image/png": "[encoded data removed]",
      "text/plain": [
       "<Figure size 720x720 with 1 Axes>"
      ]
     },
     "metadata": {
      "needs_background": "light"
     },
     "output_type": "display_data"
    },
    {
     "name": "stdout",
     "output_type": "stream",
     "text": [
      "-0.084972754 1.2007561\n",
      "-0.00031926716 0.9989724\n"
     ]
    }
   ],
   "source": [
    "EPS = 0.001\n",
    "# ind_obj =  np.where((y >= -EPS) & (y <= EPS))\n",
    "ind_grp = sdf_grp <= EPS\n",
    "\n",
    "plot_sdf(queries[ind_grp], sdf_obj[ind_grp])\n",
    "\n",
    "print(min(gt_sdf_grp), max(gt_sdf_grp))\n",
    "print(min(sdf_grp), max(sdf_grp))"
   ]
  },
  {
   "cell_type": "code",
   "execution_count": 86,
   "id": "be09e674",
   "metadata": {},
   "outputs": [
    {
     "data": {
      "image/png": "[encoded data removed]",
      "text/plain": [
       "<Figure size 720x720 with 1 Axes>"
      ]
     },
     "metadata": {
      "needs_background": "light"
     },
     "output_type": "display_data"
    },
    {
     "name": "stdout",
     "output_type": "stream",
     "text": [
      "-0.084972754 1.2007561\n",
      "-0.0021548294 0.7164882\n"
     ]
    }
   ],
   "source": [
    "EPS = 1e-5\n",
    "# ind_obj =  np.where((y >= -EPS) & y <= EPS))\n",
    "ind_grp = gt_sdf_grp <= EPS\n",
    "\n",
    "plot_sdf(queries[ind_grp], gt_sdf_grp[ind_grp])\n",
    "\n",
    "print(min(gt_sdf_grp), max(gt_sdf_grp))\n",
    "print(min(sdf_obj), max(sdf_obj))"
   ]
  },
  {
   "cell_type": "code",
   "execution_count": null,
   "id": "120e2d60",
   "metadata": {},
   "outputs": [],
   "source": []
  },
  {
   "cell_type": "code",
   "execution_count": 67,
   "id": "adc03720",
   "metadata": {},
   "outputs": [],
   "source": [
    "import pyrender\n",
    "# Just pass the points you want to visualize\n",
    "def plt_points_3d(pts):\n",
    "    colors = np.zeros(pts.shape)\n",
    "    cloud = pyrender.Mesh.from_points(pts, colors=colors)\n",
    "    scene = pyrender.Scene()\n",
    "    scene.add(cloud)\n",
    "    viewer = pyrender.Viewer(scene, use_raymond_lighting=True, point_size=2)\n",
    "\n",
    "# Pass the point as well as the sdf to see inside/outside points\n",
    "def plt_points_sdf(pts, sdf, eps=1e-4):\n",
    "    colors = np.zeros(pts.shape)\n",
    "    colors[sdf < eps, 1] = 1\n",
    "    colors[sdf > eps, 0] = 1\n",
    "    cloud = pyrender.Mesh.from_points(pts, colors=colors)\n",
    "    scene = pyrender.Scene()\n",
    "    scene.add(cloud)\n",
    "    viewer = pyrender.Viewer(scene, use_raymond_lighting=True, point_size=2)\n",
    "\n",
    "def plt_points_sdf_compare(pts, sdf_gt, sdf_pred):\n",
    "    colors = np.zeros(pts.shape)\n",
    "    colors[sdf_gt < 0, 1] = 1\n",
    "    colors[sdf_gt > 0, 0] = 1\n",
    "    cloud = pyrender.Mesh.from_points(pts, colors=colors)\n",
    "    scene = pyrender.Scene()\n",
    "    scene.add(cloud)\n",
    "    viewer = pyrender.Viewer(scene, use_raymond_lighting=True, point_size=2)\n",
    "    \n",
    "    colors2 = np.zeros(pts.shape)\n",
    "    colors2[sdf_pred < 0, 1] = 1\n",
    "    colors2[sdf_pred > 0, 0] = 1\n",
    "    cloud2 = pyrender.Mesh.from_points(pts, colors=colors2)\n",
    "    scene2 = pyrender.Scene()\n",
    "    scene2.add(cloud2)\n",
    "    viewer = pyrender.Viewer(scene2, use_raymond_lighting=True, point_size=2)"
   ]
  },
  {
   "cell_type": "code",
   "execution_count": 69,
   "id": "75bbe640",
   "metadata": {},
   "outputs": [],
   "source": [
    "plt_points_3d(queries[sdf_grp < 1e-1])"
   ]
  },
  {
   "cell_type": "code",
   "execution_count": 32,
   "id": "486169cb",
   "metadata": {},
   "outputs": [],
   "source": [
    "plt_points_3d(queries[sdf_obj < 1e-4])"
   ]
  },
  {
   "cell_type": "code",
   "execution_count": 30,
   "id": "e03dc38c",
   "metadata": {},
   "outputs": [],
   "source": [
    "plt_points_sdf(queries, sdf_grp)"
   ]
  },
  {
   "cell_type": "code",
   "execution_count": null,
   "id": "aca3d3b6",
   "metadata": {},
   "outputs": [],
   "source": [
    "plt_points_sdf(queries, sdf_obj)"
   ]
  },
  {
   "cell_type": "code",
   "execution_count": null,
   "id": "d33b3943",
   "metadata": {},
   "outputs": [],
   "source": []
  }
 ],
 "metadata": {
  "kernelspec": {
   "display_name": "Python 3 (ipykernel)",
   "language": "python",
   "name": "python3"
  },
  "language_info": {
   "codemirror_mode": {
    "name": "ipython",
    "version": 3
   },
   "file_extension": ".py",
   "mimetype": "text/x-python",
   "name": "python",
   "nbconvert_exporter": "python",
   "pygments_lexer": "ipython3",
   "version": "3.9.12"
  }
 },
 "nbformat": 4,
 "nbformat_minor": 5
}
