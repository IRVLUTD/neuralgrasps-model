{
 "cells": [
  {
   "cell_type": "code",
   "execution_count": 30,
   "id": "b17a6fe9",
   "metadata": {},
   "outputs": [],
   "source": [
    "import argparse\n",
    "import json\n",
    "import logging\n",
    "import os\n",
    "import random\n",
    "import time\n",
    "\n",
    "import torch\n",
    "import numpy as np"
   ]
  },
  {
   "cell_type": "code",
   "execution_count": 31,
   "id": "b76d53b9",
   "metadata": {},
   "outputs": [],
   "source": [
    "import sys \n",
    "def add_path(path):\n",
    "    if path not in sys.path:\n",
    "        sys.path.insert(0, path)\n",
    "\n",
    "THIS_DIR = os.path.dirname('./')\n",
    "lib_path = os.path.join(THIS_DIR, '..')\n",
    "add_path(lib_path)\n",
    "\n",
    "import utils.misc as ws\n",
    "import utils.data_utils\n",
    "import utils.train_utils\n",
    "import utils.eval_utils\n",
    "import utils.mesh\n",
    "import utils.dataset as d\n",
    "import models.networks as arch"
   ]
  },
  {
   "cell_type": "code",
   "execution_count": 32,
   "id": "931d7d6a",
   "metadata": {},
   "outputs": [],
   "source": [
    "# DATA_SOURCE = '/home/ninad/Desktop/Docs/phd-res/proj-irvl-grasp-transfer/code/docker-data/output_dataset/'\n",
    "DATA_SOURCE = os.path.join(lib_path, '../dataset_train/')\n",
    "EXPERIMENTS_DIR = '../experiments/all5_006_dsdf_50_varcmap'\n",
    "CHECKPOINT = 'latest'\n",
    "split_filename = os.path.join(EXPERIMENTS_DIR, 'split_train.json')\n",
    "specs_filename = os.path.join(EXPERIMENTS_DIR, \"specs.json\")\n",
    "\n",
    "LATENT_CODE_DIR = ws.latent_codes_subdir"
   ]
  },
  {
   "cell_type": "code",
   "execution_count": 33,
   "id": "c3bb0255",
   "metadata": {},
   "outputs": [],
   "source": [
    "specs = json.load(open(specs_filename))\n",
    "latent_size = specs[\"CodeLength\"]\n",
    "gripper_weight = specs[\"GripperWeight\"]\n",
    "num_grippers = specs[\"NumGrippers\"]"
   ]
  },
  {
   "cell_type": "code",
   "execution_count": 34,
   "id": "f0d632bf",
   "metadata": {},
   "outputs": [],
   "source": [
    "decoder = arch.dsdfDecoder(\n",
    "    latent_size, \n",
    "    **specs[\"NetworkSpecs\"]\n",
    "    ).cuda()\n",
    "\n",
    "decoder = torch.nn.DataParallel(decoder)\n",
    "\n",
    "saved_model_state = torch.load(\n",
    "    os.path.join(\n",
    "        EXPERIMENTS_DIR, ws.model_params_subdir, CHECKPOINT + \".pth\")\n",
    ")\n",
    "\n",
    "saved_model_epoch = saved_model_state[\"epoch\"]\n",
    "\n",
    "decoder.load_state_dict(saved_model_state[\"model_state_dict\"])\n",
    "\n",
    "decoder = decoder.module.cuda()"
   ]
  },
  {
   "cell_type": "code",
   "execution_count": 35,
   "id": "e5d26596",
   "metadata": {},
   "outputs": [],
   "source": [
    "with open(split_filename, \"r\") as f:\n",
    "    split = json.load(f)\n",
    "\n",
    "# npz_filenames = utils.data_utils.dsdf_get_instance_filenames(\n",
    "#     args.data_source, split)\n",
    "cmap_f, grp_names, gpc_f, npz_filenames = utils.data_utils.get_instance_filelist(DATA_SOURCE, split)\n",
    "\n",
    "# random.shuffle(npz_filenames) # WHY??? DISABLE THIS FOR CHECKING REPRODUCIBILITY"
   ]
  },
  {
   "cell_type": "code",
   "execution_count": 26,
   "id": "d8ecf827",
   "metadata": {},
   "outputs": [
    {
     "name": "stdout",
     "output_type": "stream",
     "text": [
      "['fetch_gripper', 'fetch_gripper', 'fetch_gripper', 'fetch_gripper', 'fetch_gripper', 'fetch_gripper', 'fetch_gripper', 'fetch_gripper', 'fetch_gripper', 'fetch_gripper']\n"
     ]
    }
   ],
   "source": [
    "print(grp_names[:10])"
   ]
  },
  {
   "cell_type": "code",
   "execution_count": 9,
   "id": "3c1c7fc8",
   "metadata": {},
   "outputs": [
    {
     "name": "stdout",
     "output_type": "stream",
     "text": [
      "df/fetch_gripper/sdf_graspnum_1.npz\n",
      "df/fetch_gripper/sdf_graspnum_2.npz\n",
      "df/fetch_gripper/sdf_graspnum_3.npz\n",
      "df/fetch_gripper/sdf_graspnum_4.npz\n",
      "df/fetch_gripper/sdf_graspnum_5.npz\n",
      "df/fetch_gripper/sdf_graspnum_6.npz\n",
      "df/fetch_gripper/sdf_graspnum_7.npz\n",
      "df/fetch_gripper/sdf_graspnum_8.npz\n",
      "df/fetch_gripper/sdf_graspnum_9.npz\n"
     ]
    }
   ],
   "source": [
    "for f in npz_filenames[1:10]:\n",
    "    print(f[-35:])"
   ]
  },
  {
   "cell_type": "code",
   "execution_count": 36,
   "id": "696dfe71",
   "metadata": {},
   "outputs": [
    {
     "name": "stdout",
     "output_type": "stream",
     "text": [
      "torch.Size([250, 128])\n"
     ]
    }
   ],
   "source": [
    "latent_vecs = ws.load_latent_vectors(EXPERIMENTS_DIR, CHECKPOINT)\n",
    "print(latent_vecs.shape)"
   ]
  },
  {
   "cell_type": "code",
   "execution_count": 37,
   "id": "3de4e981",
   "metadata": {},
   "outputs": [
    {
     "name": "stdout",
     "output_type": "stream",
     "text": [
      "9 df/fetch_gripper/sdf_graspnum_9.npz\n"
     ]
    }
   ],
   "source": [
    "# index_to_select = random.randint(0, len(npz_filenames)-1)\n",
    "index_to_select = 9\n",
    "\n",
    "npz = npz_filenames[index_to_select]\n",
    "\n",
    "full_filename = npz\n",
    "\n",
    "print(index_to_select, npz[-35:])"
   ]
  },
  {
   "cell_type": "code",
   "execution_count": 38,
   "id": "b79088c7",
   "metadata": {},
   "outputs": [
    {
     "name": "stdout",
     "output_type": "stream",
     "text": [
      "torch.Size([128])\n"
     ]
    }
   ],
   "source": [
    "latent_vec = latent_vecs[index_to_select].squeeze()\n",
    "print(latent_vec.shape)"
   ]
  },
  {
   "cell_type": "code",
   "execution_count": null,
   "id": "2aa46221",
   "metadata": {},
   "outputs": [],
   "source": [
    "####### MESH RECONSTRUCTION CODE!\n",
    "\n",
    "is_gripper = True\n",
    "\n",
    "if is_gripper:\n",
    "    mesh_filename = os.path.join(EXPERIMENTS_DIR, f'test_{npz[-15:]}')\n",
    "else:\n",
    "    mesh_filename = os.path.join(EXPERIMENTS_DIR, f'test_obj_{npz[-15:]}')\n",
    "\n",
    "\n",
    "latent_vec = latent_vec.squeeze().cuda()\n",
    "with torch.no_grad():\n",
    "    utils.mesh.create_mesh_custom(\n",
    "        decoder, latent_vec, mesh_filename, N=256, max_batch=int(2 ** 18), isGripper=is_gripper)\n"
   ]
  },
  {
   "cell_type": "code",
   "execution_count": null,
   "id": "0da73c68",
   "metadata": {},
   "outputs": [],
   "source": []
  },
  {
   "cell_type": "code",
   "execution_count": null,
   "id": "7014bec7",
   "metadata": {},
   "outputs": [],
   "source": [
    "# IMPORTANT: HAVE SHUFFLE = FALSE SO THAT SAME DATA POINT IS LOADED AS index_to_select\n",
    "\n",
    "# sdf_dataset = d.SDFSamples(DATA_SOURCE, split, 1000000)\n",
    "\n",
    "sdf_dataset = d.MultiGripperSamples(DATA_SOURCE, split, 100000)\n",
    "\n",
    "sdf_loader = torch.utils.data.DataLoader(\n",
    "    sdf_dataset,\n",
    "    batch_size=1,\n",
    "    shuffle=False,\n",
    "    num_workers=8,\n",
    "    drop_last=True )"
   ]
  },
  {
   "cell_type": "code",
   "execution_count": 39,
   "id": "9ae61d2c",
   "metadata": {},
   "outputs": [
    {
     "ename": "NameError",
     "evalue": "name 'sdf_dataset' is not defined",
     "output_type": "error",
     "traceback": [
      "\u001b[0;31m---------------------------------------------------------------------------\u001b[0m",
      "\u001b[0;31mNameError\u001b[0m                                 Traceback (most recent call last)",
      "\u001b[1;32m/home/ninad/Desktop/Docs/phd-res/proj-irvl-grasp-transfer/code/grasp-encoding/notebooks/test_latentcode_dsdf.ipynb Cell 15'\u001b[0m in \u001b[0;36m<cell line: 2>\u001b[0;34m()\u001b[0m\n\u001b[1;32m      <a href='vscode-notebook-cell:/home/ninad/Desktop/Docs/phd-res/proj-irvl-grasp-transfer/code/grasp-encoding/notebooks/test_latentcode_dsdf.ipynb#ch0000013?line=0'>1</a>\u001b[0m \u001b[39m# samples, npzfile = next(iter(sdf_loader))\u001b[39;00m\n\u001b[0;32m----> <a href='vscode-notebook-cell:/home/ninad/Desktop/Docs/phd-res/proj-irvl-grasp-transfer/code/grasp-encoding/notebooks/test_latentcode_dsdf.ipynb#ch0000013?line=1'>2</a>\u001b[0m g_idxs, samples, idx, npzfile \u001b[39m=\u001b[39m sdf_dataset[index_to_select]\n\u001b[1;32m      <a href='vscode-notebook-cell:/home/ninad/Desktop/Docs/phd-res/proj-irvl-grasp-transfer/code/grasp-encoding/notebooks/test_latentcode_dsdf.ipynb#ch0000013?line=2'>3</a>\u001b[0m \u001b[39mprint\u001b[39m(npzfile[\u001b[39m-\u001b[39m\u001b[39m40\u001b[39m:])\n\u001b[1;32m      <a href='vscode-notebook-cell:/home/ninad/Desktop/Docs/phd-res/proj-irvl-grasp-transfer/code/grasp-encoding/notebooks/test_latentcode_dsdf.ipynb#ch0000013?line=3'>4</a>\u001b[0m \u001b[39mprint\u001b[39m(g_idxs)\n",
      "\u001b[0;31mNameError\u001b[0m: name 'sdf_dataset' is not defined"
     ]
    }
   ],
   "source": [
    "# samples, npzfile = next(iter(sdf_loader))\n",
    "g_idxs, samples, idx, npzfile = sdf_dataset[index_to_select]\n",
    "print(npzfile[-40:])\n",
    "print(g_idxs)\n",
    "\n",
    "queries = samples[:, :3] # Need to pass this through the network\n",
    "gt_sdf_obj = samples[:, 3].squeeze().numpy()\n",
    "gt_sdf_grp = samples[:, 4].squeeze().numpy()\n",
    "print(gt_sdf_grp.shape)"
   ]
  },
  {
   "cell_type": "code",
   "execution_count": null,
   "id": "81bafb19",
   "metadata": {},
   "outputs": [],
   "source": [
    "print(samples.shape)"
   ]
  },
  {
   "cell_type": "code",
   "execution_count": 40,
   "id": "1fe39f5b",
   "metadata": {},
   "outputs": [],
   "source": [
    "# with torch.no_grad():\n",
    "#     queries, sdf_obj, sdf_grp = utils.eval_utils.eval_query_pc(decoder, latent_vec.cuda(), queries)\n",
    "\n",
    "# Try with random queries instead:\n",
    "with torch.no_grad():\n",
    "    queries, sdf_obj, sdf_grp = utils.eval_utils.eval_random_query_pc(decoder, latent_vec.cuda())\n"
   ]
  },
  {
   "cell_type": "code",
   "execution_count": 42,
   "id": "c8bbc6ba",
   "metadata": {},
   "outputs": [],
   "source": [
    "delta = 0.05\n",
    "sdf_grp = torch.clamp(sdf_grp, -delta, delta)\n",
    "sdf_obj = torch.clamp(sdf_obj, -delta, delta)"
   ]
  },
  {
   "cell_type": "code",
   "execution_count": 44,
   "id": "828b976a",
   "metadata": {},
   "outputs": [
    {
     "name": "stdout",
     "output_type": "stream",
     "text": [
      "tensor(0.0016)\n",
      "tensor(0.0067)\n"
     ]
    }
   ],
   "source": [
    "eps = 2e-2\n",
    "mask_obj = sdf_obj < eps\n",
    "mask_grp = sdf_grp < eps\n",
    "loss_obj = torch.mean(torch.absolute(sdf_obj[mask_obj]))\n",
    "loss_grp = torch.mean(torch.absolute(sdf_grp[mask_obj & mask_grp]))\n",
    "print(loss_obj)\n",
    "print(loss_grp)"
   ]
  },
  {
   "cell_type": "code",
   "execution_count": 16,
   "id": "62d47cca",
   "metadata": {},
   "outputs": [],
   "source": [
    "queries = queries.detach().cpu().numpy()\n",
    "sdf_obj = sdf_obj.detach().cpu().numpy()\n",
    "sdf_grp = sdf_grp.detach().cpu().numpy()"
   ]
  },
  {
   "cell_type": "code",
   "execution_count": 17,
   "id": "c15e535e",
   "metadata": {},
   "outputs": [
    {
     "name": "stdout",
     "output_type": "stream",
     "text": [
      "(100000,)\n",
      "(100000,)\n",
      "(100000, 3)\n"
     ]
    }
   ],
   "source": [
    "print(sdf_grp.shape)\n",
    "print(sdf_obj.shape)\n",
    "print(queries.shape)"
   ]
  },
  {
   "cell_type": "code",
   "execution_count": null,
   "id": "99742906",
   "metadata": {},
   "outputs": [],
   "source": [
    "import matplotlib.pyplot as plt\n",
    "from mpl_toolkits.mplot3d import Axes3D\n",
    "%matplotlib inline\n",
    "\n",
    "def plot_sdf(xyz, sdf, title='Sample_Title', n_display=10000):\n",
    "    fig = plt.figure(figsize = (10,10))\n",
    "    ax = fig.add_subplot(111, projection='3d')    \n",
    "\n",
    "    ind = np.random.choice(range(xyz.shape[0]), n_display)\n",
    "    data = xyz[ind].T\n",
    "\n",
    "    ax.scatter(data[0], data[2], data[1], s=5, c=sdf[ind])\n",
    "    ax.view_init(20, 100)\n",
    "    limit = (-0.95, 0.95)\n",
    "    ax.set_xlim3d(*limit)\n",
    "    ax.set_ylim3d(*limit)\n",
    "    ax.set_zlim3d(*limit)\n",
    "    plt.title(title)\n",
    "    plt.show()"
   ]
  },
  {
   "cell_type": "code",
   "execution_count": 18,
   "id": "1cb9f7bd",
   "metadata": {},
   "outputs": [
    {
     "ename": "NameError",
     "evalue": "name 'plot_sdf' is not defined",
     "output_type": "error",
     "traceback": [
      "\u001b[0;31m---------------------------------------------------------------------------\u001b[0m",
      "\u001b[0;31mNameError\u001b[0m                                 Traceback (most recent call last)",
      "\u001b[1;32m/home/ninad/Desktop/Docs/phd-res/proj-irvl-grasp-transfer/code/grasp-encoding/notebooks/test_latentcode_dsdf.ipynb Cell 21'\u001b[0m in \u001b[0;36m<cell line: 5>\u001b[0;34m()\u001b[0m\n\u001b[1;32m      <a href='vscode-notebook-cell:/home/ninad/Desktop/Docs/phd-res/proj-irvl-grasp-transfer/code/grasp-encoding/notebooks/test_latentcode_dsdf.ipynb#ch0000020?line=1'>2</a>\u001b[0m \u001b[39m# ind_obj =  np.where((y >= -EPS) & (y <= EPS))\u001b[39;00m\n\u001b[1;32m      <a href='vscode-notebook-cell:/home/ninad/Desktop/Docs/phd-res/proj-irvl-grasp-transfer/code/grasp-encoding/notebooks/test_latentcode_dsdf.ipynb#ch0000020?line=2'>3</a>\u001b[0m ind_grp \u001b[39m=\u001b[39m sdf_grp \u001b[39m<\u001b[39m\u001b[39m=\u001b[39m EPS\n\u001b[0;32m----> <a href='vscode-notebook-cell:/home/ninad/Desktop/Docs/phd-res/proj-irvl-grasp-transfer/code/grasp-encoding/notebooks/test_latentcode_dsdf.ipynb#ch0000020?line=4'>5</a>\u001b[0m plot_sdf(queries[ind_grp], sdf_obj[ind_grp])\n\u001b[1;32m      <a href='vscode-notebook-cell:/home/ninad/Desktop/Docs/phd-res/proj-irvl-grasp-transfer/code/grasp-encoding/notebooks/test_latentcode_dsdf.ipynb#ch0000020?line=6'>7</a>\u001b[0m \u001b[39mprint\u001b[39m(\u001b[39mmin\u001b[39m(gt_sdf_grp), \u001b[39mmax\u001b[39m(gt_sdf_grp))\n\u001b[1;32m      <a href='vscode-notebook-cell:/home/ninad/Desktop/Docs/phd-res/proj-irvl-grasp-transfer/code/grasp-encoding/notebooks/test_latentcode_dsdf.ipynb#ch0000020?line=7'>8</a>\u001b[0m \u001b[39mprint\u001b[39m(\u001b[39mmin\u001b[39m(sdf_grp), \u001b[39mmax\u001b[39m(sdf_grp))\n",
      "\u001b[0;31mNameError\u001b[0m: name 'plot_sdf' is not defined"
     ]
    }
   ],
   "source": [
    "EPS = 0.001\n",
    "# ind_obj =  np.where((y >= -EPS) & (y <= EPS))\n",
    "ind_grp = sdf_grp <= EPS\n",
    "\n",
    "plot_sdf(queries[ind_grp], sdf_obj[ind_grp])\n",
    "\n",
    "print(min(gt_sdf_grp), max(gt_sdf_grp))\n",
    "print(min(sdf_grp), max(sdf_grp))"
   ]
  },
  {
   "cell_type": "code",
   "execution_count": null,
   "id": "be09e674",
   "metadata": {},
   "outputs": [],
   "source": [
    "EPS = 1e-5\n",
    "# ind_obj =  np.where((y >= -EPS) & y <= EPS))\n",
    "ind_grp = gt_sdf_grp <= EPS\n",
    "\n",
    "plot_sdf(queries[ind_grp], gt_sdf_grp[ind_grp])\n",
    "\n",
    "print(min(gt_sdf_grp), max(gt_sdf_grp))\n",
    "print(min(sdf_obj), max(sdf_obj))"
   ]
  },
  {
   "cell_type": "code",
   "execution_count": null,
   "id": "120e2d60",
   "metadata": {},
   "outputs": [],
   "source": []
  },
  {
   "cell_type": "code",
   "execution_count": 19,
   "id": "adc03720",
   "metadata": {},
   "outputs": [],
   "source": [
    "import pyrender\n",
    "# Just pass the points you want to visualize\n",
    "def plt_points_3d(pts):\n",
    "    colors = np.zeros(pts.shape)\n",
    "    cloud = pyrender.Mesh.from_points(pts, colors=colors)\n",
    "    scene = pyrender.Scene()\n",
    "    scene.add(cloud)\n",
    "    viewer = pyrender.Viewer(scene, use_raymond_lighting=True, point_size=2)\n",
    "\n",
    "# Pass the point as well as the sdf to see inside/outside points\n",
    "def plt_points_sdf(pts, sdf, eps=1e-4):\n",
    "    colors = np.zeros(pts.shape)\n",
    "    colors[sdf < eps, 1] = 1\n",
    "    colors[sdf > eps, 0] = 1\n",
    "    cloud = pyrender.Mesh.from_points(pts, colors=colors)\n",
    "    scene = pyrender.Scene()\n",
    "    scene.add(cloud)\n",
    "    viewer = pyrender.Viewer(scene, use_raymond_lighting=True, point_size=2)\n",
    "\n",
    "def plt_points_sdf_compare(pts, sdf_gt, sdf_pred):\n",
    "    colors = np.zeros(pts.shape)\n",
    "    colors[sdf_gt < 0, 1] = 1\n",
    "    colors[sdf_gt > 0, 0] = 1\n",
    "    cloud = pyrender.Mesh.from_points(pts, colors=colors)\n",
    "    scene = pyrender.Scene()\n",
    "    scene.add(cloud)\n",
    "    viewer = pyrender.Viewer(scene, use_raymond_lighting=True, point_size=2)\n",
    "    \n",
    "    colors2 = np.zeros(pts.shape)\n",
    "    colors2[sdf_pred < 0, 1] = 1\n",
    "    colors2[sdf_pred > 0, 0] = 1\n",
    "    cloud2 = pyrender.Mesh.from_points(pts, colors=colors2)\n",
    "    scene2 = pyrender.Scene()\n",
    "    scene2.add(cloud2)\n",
    "    viewer = pyrender.Viewer(scene2, use_raymond_lighting=True, point_size=2)\n",
    "\n",
    "def plt_points_sdf_contact(pts, sdf_grp, eps=1e-4):\n",
    "    colors = np.ones(pts.shape)\n",
    "    colors[sdf_grp < eps, 1] = 0\n",
    "    cloud = pyrender.Mesh.from_points(pts, colors=colors)\n",
    "    scene = pyrender.Scene()\n",
    "    scene.add(cloud)\n",
    "    viewer = pyrender.Viewer(scene, use_raymond_lighting=True, point_size=5)"
   ]
  },
  {
   "cell_type": "code",
   "execution_count": null,
   "id": "75bbe640",
   "metadata": {},
   "outputs": [],
   "source": [
    "plt_points_3d(queries[sdf_grp < 0.001])"
   ]
  },
  {
   "cell_type": "code",
   "execution_count": null,
   "id": "486169cb",
   "metadata": {},
   "outputs": [],
   "source": [
    "plt_points_3d(queries[sdf_obj < 1e-2])"
   ]
  },
  {
   "cell_type": "code",
   "execution_count": 24,
   "id": "d8555f44",
   "metadata": {},
   "outputs": [],
   "source": [
    "eps = 2e-2\n",
    "mask_obj = sdf_obj < eps\n",
    "mask_grp = sdf_grp < eps\n",
    "\n",
    "obj_pc = queries[mask_obj]\n",
    "objpc_grp_sdfs = sdf_grp[mask_obj]\n",
    "plt_points_sdf_contact(obj_pc, objpc_grp_sdfs, eps=eps)\n",
    "\n",
    "\n",
    "\n"
   ]
  },
  {
   "cell_type": "code",
   "execution_count": null,
   "id": "99002291",
   "metadata": {},
   "outputs": [],
   "source": [
    "plt_points_3d(queries[mask1 & mask2])"
   ]
  },
  {
   "cell_type": "code",
   "execution_count": null,
   "id": "e03dc38c",
   "metadata": {},
   "outputs": [],
   "source": [
    "plt_points_sdf(queries, sdf_grp)"
   ]
  },
  {
   "cell_type": "code",
   "execution_count": null,
   "id": "aca3d3b6",
   "metadata": {},
   "outputs": [],
   "source": [
    "plt_points_sdf(queries, sdf_obj)"
   ]
  },
  {
   "cell_type": "code",
   "execution_count": null,
   "id": "d33b3943",
   "metadata": {},
   "outputs": [],
   "source": []
  }
 ],
 "metadata": {
  "interpreter": {
   "hash": "828396f6010f0730e9cd4f02afef87f2dfb58bfe79cbcd1eff170bf9426e2a48"
  },
  "kernelspec": {
   "display_name": "Python 3.9.12 ('grasp-sdf')",
   "language": "python",
   "name": "python3"
  },
  "language_info": {
   "codemirror_mode": {
    "name": "ipython",
    "version": 3
   },
   "file_extension": ".py",
   "mimetype": "text/x-python",
   "name": "python",
   "nbconvert_exporter": "python",
   "pygments_lexer": "ipython3",
   "version": "3.9.12"
  }
 },
 "nbformat": 4,
 "nbformat_minor": 5
}
